{
 "cells": [
  {
   "cell_type": "markdown",
   "metadata": {},
   "source": [
    "#  Riiid! Answer Correctness Prediction"
   ]
  },
  {
   "cell_type": "markdown",
   "metadata": {},
   "source": [
    "**Background**: According to Riiid Labs, AI systems are being used in online learning by launching an AI tutor based on deep-learning algorithms.\n",
    "\n",
    "**Problem**: Students are not able to choose learning experiences based on their personal background, skills and interest.\n",
    "\n",
    "**Source Data**: AI education data from Riiid Ednet open database\n",
    "\n",
    "**Goal**: To create algorithms for \"Knowledge Tracing\" for student answer prediction in order to develop a custom learning profile and customize the training materials for each student\n",
    "based on their ability, preferred mode of learning, and experience. "
   ]
  },
  {
   "cell_type": "code",
   "execution_count": 1,
   "metadata": {},
   "outputs": [
    {
     "data": {
      "text/html": [
       "<style type='text/css'>\n",
       ".datatable table.frame { margin-bottom: 0; }\n",
       ".datatable table.frame thead { border-bottom: none; }\n",
       ".datatable table.frame tr.coltypes td {  color: #FFFFFF;  line-height: 6px;  padding: 0 0.5em;}\n",
       ".datatable .bool    { background: #DDDD99; }\n",
       ".datatable .object  { background: #565656; }\n",
       ".datatable .int     { background: #5D9E5D; }\n",
       ".datatable .float   { background: #4040CC; }\n",
       ".datatable .str     { background: #CC4040; }\n",
       ".datatable .row_index {  background: var(--jp-border-color3);  border-right: 1px solid var(--jp-border-color0);  color: var(--jp-ui-font-color3);  font-size: 9px;}\n",
       ".datatable .frame tr.coltypes .row_index {  background: var(--jp-border-color0);}\n",
       ".datatable th:nth-child(2) { padding-left: 12px; }\n",
       ".datatable .hellipsis {  color: var(--jp-cell-editor-border-color);}\n",
       ".datatable .vellipsis {  background: var(--jp-layout-color0);  color: var(--jp-cell-editor-border-color);}\n",
       ".datatable .na {  color: var(--jp-cell-editor-border-color);  font-size: 80%;}\n",
       ".datatable .footer { font-size: 9px; }\n",
       ".datatable .frame_dimensions {  background: var(--jp-border-color3);  border-top: 1px solid var(--jp-border-color0);  color: var(--jp-ui-font-color3);  display: inline-block;  opacity: 0.6;  padding: 1px 10px 1px 5px;}\n",
       "</style>\n"
      ],
      "text/plain": [
       "<IPython.core.display.HTML object>"
      ]
     },
     "metadata": {},
     "output_type": "display_data"
    }
   ],
   "source": [
    "import pandas as pd\n",
    "import numpy as np\n",
    "import matplotlib.pyplot as plt\n",
    "%matplotlib inline\n",
    "import seaborn as sns\n",
    "import gc\n",
    "import datatable as dt\n",
    "sns.set()\n",
    "np.set_printoptions(suppress=True)\n",
    "pd.set_option('float_format', '{:f}'.format)"
   ]
  },
  {
   "cell_type": "code",
   "execution_count": 49,
   "metadata": {},
   "outputs": [],
   "source": [
    "import datatable as dt"
   ]
  },
  {
   "cell_type": "code",
   "execution_count": 50,
   "metadata": {},
   "outputs": [
    {
     "name": "stdout",
     "output_type": "stream",
     "text": [
      "CPU times: user 49.4 s, sys: 26 s, total: 1min 15s\n",
      "Wall time: 1min 25s\n"
     ]
    }
   ],
   "source": [
    "%time data = pd.read_csv('train.csv')\n",
    "\n",
    "#%time data = pd.read_csv('train.csv',nrows=1000000)\n",
    "# data = pd.read_csv('train.csv',\n",
    "#                 usecols=[1, 2, 3,4,7,8,9], dtype={'timestamp': 'int64', \n",
    "#                                                   'user_id': 'int32' ,\n",
    "#                                                   'content_id': 'int16',\n",
    "#                                                   'content_type_id': 'int8',\n",
    "#                                                   'answered_correctly':'int8',\n",
    "#                                                   'prior_question_elapsed_time': \n",
    "#                                                   'float32','prior_question_had_explanation':\n",
    "#                                                   'boolean'}\n",
    "#               )"
   ]
  },
  {
   "cell_type": "code",
   "execution_count": 51,
   "metadata": {},
   "outputs": [
    {
     "data": {
      "text/plain": [
       "row_id                              int64\n",
       "timestamp                           int64\n",
       "user_id                             int64\n",
       "content_id                          int64\n",
       "content_type_id                     int64\n",
       "task_container_id                   int64\n",
       "user_answer                         int64\n",
       "answered_correctly                  int64\n",
       "prior_question_elapsed_time       float64\n",
       "prior_question_had_explanation     object\n",
       "dtype: object"
      ]
     },
     "execution_count": 51,
     "metadata": {},
     "output_type": "execute_result"
    }
   ],
   "source": [
    "data.dtypes #train data set"
   ]
  },
  {
   "cell_type": "code",
   "execution_count": 52,
   "metadata": {},
   "outputs": [],
   "source": [
    "def downcast_df_int_columns(df):\n",
    "    list_of_columns = list(df.select_dtypes(include=[\"int32\", \"int64\"]).columns)\n",
    "        \n",
    "    if len(list_of_columns)>=1:\n",
    "        max_string_length = max([len(col) for col in list_of_columns]) # finds max string length for better status printing\n",
    "        print(\"downcasting integers for:\", list_of_columns, \"\\n\")\n",
    "        \n",
    "        for col in list_of_columns:\n",
    "            print(\"reduced memory usage for:  \", col.ljust(max_string_length+2)[:max_string_length+2],\n",
    "                  \"from\", str(round(df[col].memory_usage(deep=True)*1e-6,2)).rjust(8), \"to\", end=\" \")\n",
    "            df[col] = pd.to_numeric(df[col], downcast=\"integer\")\n",
    "            print(str(round(df[col].memory_usage(deep=True)*1e-6,2)).rjust(8))\n",
    "    else:\n",
    "        print(\"no columns to downcast\")\n",
    "    \n",
    "    gc.collect()\n",
    "    \n",
    "    print(\"done\")"
   ]
  },
  {
   "cell_type": "code",
   "execution_count": 53,
   "metadata": {},
   "outputs": [
    {
     "name": "stdout",
     "output_type": "stream",
     "text": [
      "downcasting integers for: ['row_id', 'timestamp', 'user_id', 'content_id', 'content_type_id', 'task_container_id', 'user_answer', 'answered_correctly'] \n",
      "\n",
      "reduced memory usage for:   row_id               from   809.84 to   404.92\n",
      "reduced memory usage for:   timestamp            from   809.84 to   809.84\n",
      "reduced memory usage for:   user_id              from   809.84 to   404.92\n",
      "reduced memory usage for:   content_id           from   809.84 to   202.46\n",
      "reduced memory usage for:   content_type_id      from   809.84 to   101.23\n",
      "reduced memory usage for:   task_container_id    from   809.84 to   202.46\n",
      "reduced memory usage for:   user_answer          from   809.84 to   101.23\n",
      "reduced memory usage for:   answered_correctly   from   809.84 to   101.23\n",
      "done\n"
     ]
    }
   ],
   "source": [
    "downcast_df_int_columns(data)"
   ]
  },
  {
   "cell_type": "code",
   "execution_count": 54,
   "metadata": {},
   "outputs": [],
   "source": [
    "df = data[:]"
   ]
  },
  {
   "cell_type": "code",
   "execution_count": 55,
   "metadata": {},
   "outputs": [],
   "source": [
    "df.set_index(\"row_id\", inplace=True)"
   ]
  },
  {
   "cell_type": "code",
   "execution_count": 56,
   "metadata": {},
   "outputs": [],
   "source": [
    "lectures = pd.read_csv('lectures.csv')\n",
    "questions = pd.read_csv('questions.csv')"
   ]
  },
  {
   "cell_type": "code",
   "execution_count": 57,
   "metadata": {},
   "outputs": [
    {
     "name": "stdout",
     "output_type": "stream",
     "text": [
      "downcasting integers for: ['lecture_id', 'tag', 'part'] \n",
      "\n",
      "reduced memory usage for:   lecture_id   from      0.0 to      0.0\n",
      "reduced memory usage for:   tag          from      0.0 to      0.0\n",
      "reduced memory usage for:   part         from      0.0 to      0.0\n",
      "done\n"
     ]
    }
   ],
   "source": [
    "downcast_df_int_columns(lectures)"
   ]
  },
  {
   "cell_type": "code",
   "execution_count": 58,
   "metadata": {},
   "outputs": [
    {
     "name": "stdout",
     "output_type": "stream",
     "text": [
      "downcasting integers for: ['question_id', 'bundle_id', 'correct_answer', 'part'] \n",
      "\n",
      "reduced memory usage for:   question_id      from     0.11 to     0.03\n",
      "reduced memory usage for:   bundle_id        from     0.11 to     0.03\n",
      "reduced memory usage for:   correct_answer   from     0.11 to     0.01\n",
      "reduced memory usage for:   part             from     0.11 to     0.01\n",
      "done\n"
     ]
    }
   ],
   "source": [
    "downcast_df_int_columns(questions)"
   ]
  },
  {
   "cell_type": "code",
   "execution_count": 59,
   "metadata": {},
   "outputs": [
    {
     "data": {
      "text/plain": [
       "lecture_id     int16\n",
       "tag            int16\n",
       "part            int8\n",
       "type_of       object\n",
       "dtype: object"
      ]
     },
     "execution_count": 59,
     "metadata": {},
     "output_type": "execute_result"
    }
   ],
   "source": [
    "lectures.dtypes"
   ]
  },
  {
   "cell_type": "code",
   "execution_count": 60,
   "metadata": {},
   "outputs": [
    {
     "data": {
      "text/plain": [
       "question_id        int16\n",
       "bundle_id          int16\n",
       "correct_answer      int8\n",
       "part                int8\n",
       "tags              object\n",
       "dtype: object"
      ]
     },
     "execution_count": 60,
     "metadata": {},
     "output_type": "execute_result"
    }
   ],
   "source": [
    "questions.dtypes"
   ]
  },
  {
   "cell_type": "code",
   "execution_count": 61,
   "metadata": {},
   "outputs": [
    {
     "data": {
      "text/plain": [
       "timestamp                           int64\n",
       "user_id                             int32\n",
       "content_id                          int16\n",
       "content_type_id                      int8\n",
       "task_container_id                   int16\n",
       "user_answer                          int8\n",
       "answered_correctly                   int8\n",
       "prior_question_elapsed_time       float64\n",
       "prior_question_had_explanation     object\n",
       "dtype: object"
      ]
     },
     "execution_count": 61,
     "metadata": {},
     "output_type": "execute_result"
    }
   ],
   "source": [
    "df.dtypes"
   ]
  },
  {
   "cell_type": "code",
   "execution_count": 62,
   "metadata": {},
   "outputs": [
    {
     "data": {
      "text/html": [
       "<div>\n",
       "<style scoped>\n",
       "    .dataframe tbody tr th:only-of-type {\n",
       "        vertical-align: middle;\n",
       "    }\n",
       "\n",
       "    .dataframe tbody tr th {\n",
       "        vertical-align: top;\n",
       "    }\n",
       "\n",
       "    .dataframe thead th {\n",
       "        text-align: right;\n",
       "    }\n",
       "</style>\n",
       "<table border=\"1\" class=\"dataframe\">\n",
       "  <thead>\n",
       "    <tr style=\"text-align: right;\">\n",
       "      <th></th>\n",
       "      <th>timestamp</th>\n",
       "      <th>user_id</th>\n",
       "      <th>content_id</th>\n",
       "      <th>content_type_id</th>\n",
       "      <th>task_container_id</th>\n",
       "      <th>user_answer</th>\n",
       "      <th>answered_correctly</th>\n",
       "      <th>prior_question_elapsed_time</th>\n",
       "      <th>prior_question_had_explanation</th>\n",
       "    </tr>\n",
       "    <tr>\n",
       "      <th>row_id</th>\n",
       "      <th></th>\n",
       "      <th></th>\n",
       "      <th></th>\n",
       "      <th></th>\n",
       "      <th></th>\n",
       "      <th></th>\n",
       "      <th></th>\n",
       "      <th></th>\n",
       "      <th></th>\n",
       "    </tr>\n",
       "  </thead>\n",
       "  <tbody>\n",
       "    <tr>\n",
       "      <th>68587317</th>\n",
       "      <td>3647342390</td>\n",
       "      <td>1459012183</td>\n",
       "      <td>4982</td>\n",
       "      <td>0</td>\n",
       "      <td>1251</td>\n",
       "      <td>2</td>\n",
       "      <td>1</td>\n",
       "      <td>22000.000000</td>\n",
       "      <td>True</td>\n",
       "    </tr>\n",
       "  </tbody>\n",
       "</table>\n",
       "</div>"
      ],
      "text/plain": [
       "           timestamp     user_id  content_id  content_type_id  \\\n",
       "row_id                                                          \n",
       "68587317  3647342390  1459012183        4982                0   \n",
       "\n",
       "          task_container_id  user_answer  answered_correctly  \\\n",
       "row_id                                                         \n",
       "68587317               1251            2                   1   \n",
       "\n",
       "          prior_question_elapsed_time prior_question_had_explanation  \n",
       "row_id                                                                \n",
       "68587317                 22000.000000                           True  "
      ]
     },
     "execution_count": 62,
     "metadata": {},
     "output_type": "execute_result"
    }
   ],
   "source": [
    "df.sample()"
   ]
  },
  {
   "cell_type": "code",
   "execution_count": 63,
   "metadata": {},
   "outputs": [
    {
     "data": {
      "text/plain": [
       "(101230332, 9)"
      ]
     },
     "execution_count": 63,
     "metadata": {},
     "output_type": "execute_result"
    }
   ],
   "source": [
    "df.shape"
   ]
  },
  {
   "cell_type": "code",
   "execution_count": 64,
   "metadata": {},
   "outputs": [
    {
     "data": {
      "text/html": [
       "<div>\n",
       "<style scoped>\n",
       "    .dataframe tbody tr th:only-of-type {\n",
       "        vertical-align: middle;\n",
       "    }\n",
       "\n",
       "    .dataframe tbody tr th {\n",
       "        vertical-align: top;\n",
       "    }\n",
       "\n",
       "    .dataframe thead th {\n",
       "        text-align: right;\n",
       "    }\n",
       "</style>\n",
       "<table border=\"1\" class=\"dataframe\">\n",
       "  <thead>\n",
       "    <tr style=\"text-align: right;\">\n",
       "      <th></th>\n",
       "      <th>timestamp</th>\n",
       "      <th>user_id</th>\n",
       "      <th>content_id</th>\n",
       "      <th>content_type_id</th>\n",
       "      <th>task_container_id</th>\n",
       "      <th>user_answer</th>\n",
       "      <th>answered_correctly</th>\n",
       "      <th>prior_question_elapsed_time</th>\n",
       "    </tr>\n",
       "  </thead>\n",
       "  <tbody>\n",
       "    <tr>\n",
       "      <th>count</th>\n",
       "      <td>101230332.000000</td>\n",
       "      <td>101230332.000000</td>\n",
       "      <td>101230332.000000</td>\n",
       "      <td>101230332.000000</td>\n",
       "      <td>101230332.000000</td>\n",
       "      <td>101230332.000000</td>\n",
       "      <td>101230332.000000</td>\n",
       "      <td>98878794.000000</td>\n",
       "    </tr>\n",
       "    <tr>\n",
       "      <th>mean</th>\n",
       "      <td>7703643654.326523</td>\n",
       "      <td>1076732424.202999</td>\n",
       "      <td>5219.604757</td>\n",
       "      <td>0.019352</td>\n",
       "      <td>904.062366</td>\n",
       "      <td>1.376123</td>\n",
       "      <td>0.625164</td>\n",
       "      <td>25423.810043</td>\n",
       "    </tr>\n",
       "    <tr>\n",
       "      <th>std</th>\n",
       "      <td>11592655308.525589</td>\n",
       "      <td>619716349.500642</td>\n",
       "      <td>3866.358940</td>\n",
       "      <td>0.137760</td>\n",
       "      <td>1358.302181</td>\n",
       "      <td>1.192896</td>\n",
       "      <td>0.522531</td>\n",
       "      <td>19948.146709</td>\n",
       "    </tr>\n",
       "    <tr>\n",
       "      <th>min</th>\n",
       "      <td>0.000000</td>\n",
       "      <td>115.000000</td>\n",
       "      <td>0.000000</td>\n",
       "      <td>0.000000</td>\n",
       "      <td>0.000000</td>\n",
       "      <td>-1.000000</td>\n",
       "      <td>-1.000000</td>\n",
       "      <td>0.000000</td>\n",
       "    </tr>\n",
       "    <tr>\n",
       "      <th>25%</th>\n",
       "      <td>524343559.000000</td>\n",
       "      <td>540811564.000000</td>\n",
       "      <td>2063.000000</td>\n",
       "      <td>0.000000</td>\n",
       "      <td>104.000000</td>\n",
       "      <td>0.000000</td>\n",
       "      <td>0.000000</td>\n",
       "      <td>16000.000000</td>\n",
       "    </tr>\n",
       "    <tr>\n",
       "      <th>50%</th>\n",
       "      <td>2674233764.500000</td>\n",
       "      <td>1071781070.000000</td>\n",
       "      <td>5026.000000</td>\n",
       "      <td>0.000000</td>\n",
       "      <td>382.000000</td>\n",
       "      <td>1.000000</td>\n",
       "      <td>1.000000</td>\n",
       "      <td>21000.000000</td>\n",
       "    </tr>\n",
       "    <tr>\n",
       "      <th>75%</th>\n",
       "      <td>9924550562.750000</td>\n",
       "      <td>1615741676.000000</td>\n",
       "      <td>7425.000000</td>\n",
       "      <td>0.000000</td>\n",
       "      <td>1094.000000</td>\n",
       "      <td>3.000000</td>\n",
       "      <td>1.000000</td>\n",
       "      <td>29666.000000</td>\n",
       "    </tr>\n",
       "    <tr>\n",
       "      <th>max</th>\n",
       "      <td>87425772049.000000</td>\n",
       "      <td>2147482888.000000</td>\n",
       "      <td>32736.000000</td>\n",
       "      <td>1.000000</td>\n",
       "      <td>9999.000000</td>\n",
       "      <td>3.000000</td>\n",
       "      <td>1.000000</td>\n",
       "      <td>300000.000000</td>\n",
       "    </tr>\n",
       "  </tbody>\n",
       "</table>\n",
       "</div>"
      ],
      "text/plain": [
       "               timestamp           user_id       content_id  content_type_id  \\\n",
       "count   101230332.000000  101230332.000000 101230332.000000 101230332.000000   \n",
       "mean   7703643654.326523 1076732424.202999      5219.604757         0.019352   \n",
       "std   11592655308.525589  619716349.500642      3866.358940         0.137760   \n",
       "min             0.000000        115.000000         0.000000         0.000000   \n",
       "25%     524343559.000000  540811564.000000      2063.000000         0.000000   \n",
       "50%    2674233764.500000 1071781070.000000      5026.000000         0.000000   \n",
       "75%    9924550562.750000 1615741676.000000      7425.000000         0.000000   \n",
       "max   87425772049.000000 2147482888.000000     32736.000000         1.000000   \n",
       "\n",
       "       task_container_id      user_answer  answered_correctly  \\\n",
       "count   101230332.000000 101230332.000000    101230332.000000   \n",
       "mean          904.062366         1.376123            0.625164   \n",
       "std          1358.302181         1.192896            0.522531   \n",
       "min             0.000000        -1.000000           -1.000000   \n",
       "25%           104.000000         0.000000            0.000000   \n",
       "50%           382.000000         1.000000            1.000000   \n",
       "75%          1094.000000         3.000000            1.000000   \n",
       "max          9999.000000         3.000000            1.000000   \n",
       "\n",
       "       prior_question_elapsed_time  \n",
       "count              98878794.000000  \n",
       "mean                  25423.810043  \n",
       "std                   19948.146709  \n",
       "min                       0.000000  \n",
       "25%                   16000.000000  \n",
       "50%                   21000.000000  \n",
       "75%                   29666.000000  \n",
       "max                  300000.000000  "
      ]
     },
     "execution_count": 64,
     "metadata": {},
     "output_type": "execute_result"
    }
   ],
   "source": [
    "df.describe()"
   ]
  },
  {
   "cell_type": "code",
   "execution_count": 65,
   "metadata": {},
   "outputs": [
    {
     "data": {
      "text/html": [
       "<div>\n",
       "<style scoped>\n",
       "    .dataframe tbody tr th:only-of-type {\n",
       "        vertical-align: middle;\n",
       "    }\n",
       "\n",
       "    .dataframe tbody tr th {\n",
       "        vertical-align: top;\n",
       "    }\n",
       "\n",
       "    .dataframe thead th {\n",
       "        text-align: right;\n",
       "    }\n",
       "</style>\n",
       "<table border=\"1\" class=\"dataframe\">\n",
       "  <thead>\n",
       "    <tr style=\"text-align: right;\">\n",
       "      <th></th>\n",
       "      <th>question_id</th>\n",
       "      <th>bundle_id</th>\n",
       "      <th>correct_answer</th>\n",
       "      <th>part</th>\n",
       "      <th>tags</th>\n",
       "    </tr>\n",
       "  </thead>\n",
       "  <tbody>\n",
       "    <tr>\n",
       "      <th>0</th>\n",
       "      <td>0</td>\n",
       "      <td>0</td>\n",
       "      <td>0</td>\n",
       "      <td>1</td>\n",
       "      <td>51 131 162 38</td>\n",
       "    </tr>\n",
       "    <tr>\n",
       "      <th>1</th>\n",
       "      <td>1</td>\n",
       "      <td>1</td>\n",
       "      <td>1</td>\n",
       "      <td>1</td>\n",
       "      <td>131 36 81</td>\n",
       "    </tr>\n",
       "    <tr>\n",
       "      <th>2</th>\n",
       "      <td>2</td>\n",
       "      <td>2</td>\n",
       "      <td>0</td>\n",
       "      <td>1</td>\n",
       "      <td>131 101 162 92</td>\n",
       "    </tr>\n",
       "    <tr>\n",
       "      <th>3</th>\n",
       "      <td>3</td>\n",
       "      <td>3</td>\n",
       "      <td>0</td>\n",
       "      <td>1</td>\n",
       "      <td>131 149 162 29</td>\n",
       "    </tr>\n",
       "    <tr>\n",
       "      <th>4</th>\n",
       "      <td>4</td>\n",
       "      <td>4</td>\n",
       "      <td>3</td>\n",
       "      <td>1</td>\n",
       "      <td>131 5 162 38</td>\n",
       "    </tr>\n",
       "    <tr>\n",
       "      <th>...</th>\n",
       "      <td>...</td>\n",
       "      <td>...</td>\n",
       "      <td>...</td>\n",
       "      <td>...</td>\n",
       "      <td>...</td>\n",
       "    </tr>\n",
       "    <tr>\n",
       "      <th>13518</th>\n",
       "      <td>13518</td>\n",
       "      <td>13518</td>\n",
       "      <td>3</td>\n",
       "      <td>5</td>\n",
       "      <td>14</td>\n",
       "    </tr>\n",
       "    <tr>\n",
       "      <th>13519</th>\n",
       "      <td>13519</td>\n",
       "      <td>13519</td>\n",
       "      <td>3</td>\n",
       "      <td>5</td>\n",
       "      <td>8</td>\n",
       "    </tr>\n",
       "    <tr>\n",
       "      <th>13520</th>\n",
       "      <td>13520</td>\n",
       "      <td>13520</td>\n",
       "      <td>2</td>\n",
       "      <td>5</td>\n",
       "      <td>73</td>\n",
       "    </tr>\n",
       "    <tr>\n",
       "      <th>13521</th>\n",
       "      <td>13521</td>\n",
       "      <td>13521</td>\n",
       "      <td>0</td>\n",
       "      <td>5</td>\n",
       "      <td>125</td>\n",
       "    </tr>\n",
       "    <tr>\n",
       "      <th>13522</th>\n",
       "      <td>13522</td>\n",
       "      <td>13522</td>\n",
       "      <td>3</td>\n",
       "      <td>5</td>\n",
       "      <td>55</td>\n",
       "    </tr>\n",
       "  </tbody>\n",
       "</table>\n",
       "<p>13523 rows × 5 columns</p>\n",
       "</div>"
      ],
      "text/plain": [
       "       question_id  bundle_id  correct_answer  part            tags\n",
       "0                0          0               0     1   51 131 162 38\n",
       "1                1          1               1     1       131 36 81\n",
       "2                2          2               0     1  131 101 162 92\n",
       "3                3          3               0     1  131 149 162 29\n",
       "4                4          4               3     1    131 5 162 38\n",
       "...            ...        ...             ...   ...             ...\n",
       "13518        13518      13518               3     5              14\n",
       "13519        13519      13519               3     5               8\n",
       "13520        13520      13520               2     5              73\n",
       "13521        13521      13521               0     5             125\n",
       "13522        13522      13522               3     5              55\n",
       "\n",
       "[13523 rows x 5 columns]"
      ]
     },
     "execution_count": 65,
     "metadata": {},
     "output_type": "execute_result"
    }
   ],
   "source": [
    "questions"
   ]
  },
  {
   "cell_type": "code",
   "execution_count": 66,
   "metadata": {},
   "outputs": [
    {
     "data": {
      "text/plain": [
       "(418, 4)"
      ]
     },
     "execution_count": 66,
     "metadata": {},
     "output_type": "execute_result"
    }
   ],
   "source": [
    "lectures.shape"
   ]
  },
  {
   "cell_type": "code",
   "execution_count": 67,
   "metadata": {},
   "outputs": [
    {
     "data": {
      "text/html": [
       "<div>\n",
       "<style scoped>\n",
       "    .dataframe tbody tr th:only-of-type {\n",
       "        vertical-align: middle;\n",
       "    }\n",
       "\n",
       "    .dataframe tbody tr th {\n",
       "        vertical-align: top;\n",
       "    }\n",
       "\n",
       "    .dataframe thead th {\n",
       "        text-align: right;\n",
       "    }\n",
       "</style>\n",
       "<table border=\"1\" class=\"dataframe\">\n",
       "  <thead>\n",
       "    <tr style=\"text-align: right;\">\n",
       "      <th></th>\n",
       "      <th>question_id</th>\n",
       "      <th>bundle_id</th>\n",
       "      <th>correct_answer</th>\n",
       "      <th>part</th>\n",
       "      <th>tags</th>\n",
       "    </tr>\n",
       "  </thead>\n",
       "  <tbody>\n",
       "    <tr>\n",
       "      <th>0</th>\n",
       "      <td>0</td>\n",
       "      <td>0</td>\n",
       "      <td>0</td>\n",
       "      <td>1</td>\n",
       "      <td>51 131 162 38</td>\n",
       "    </tr>\n",
       "    <tr>\n",
       "      <th>1</th>\n",
       "      <td>1</td>\n",
       "      <td>1</td>\n",
       "      <td>1</td>\n",
       "      <td>1</td>\n",
       "      <td>131 36 81</td>\n",
       "    </tr>\n",
       "    <tr>\n",
       "      <th>2</th>\n",
       "      <td>2</td>\n",
       "      <td>2</td>\n",
       "      <td>0</td>\n",
       "      <td>1</td>\n",
       "      <td>131 101 162 92</td>\n",
       "    </tr>\n",
       "    <tr>\n",
       "      <th>3</th>\n",
       "      <td>3</td>\n",
       "      <td>3</td>\n",
       "      <td>0</td>\n",
       "      <td>1</td>\n",
       "      <td>131 149 162 29</td>\n",
       "    </tr>\n",
       "    <tr>\n",
       "      <th>4</th>\n",
       "      <td>4</td>\n",
       "      <td>4</td>\n",
       "      <td>3</td>\n",
       "      <td>1</td>\n",
       "      <td>131 5 162 38</td>\n",
       "    </tr>\n",
       "    <tr>\n",
       "      <th>...</th>\n",
       "      <td>...</td>\n",
       "      <td>...</td>\n",
       "      <td>...</td>\n",
       "      <td>...</td>\n",
       "      <td>...</td>\n",
       "    </tr>\n",
       "    <tr>\n",
       "      <th>13518</th>\n",
       "      <td>13518</td>\n",
       "      <td>13518</td>\n",
       "      <td>3</td>\n",
       "      <td>5</td>\n",
       "      <td>14</td>\n",
       "    </tr>\n",
       "    <tr>\n",
       "      <th>13519</th>\n",
       "      <td>13519</td>\n",
       "      <td>13519</td>\n",
       "      <td>3</td>\n",
       "      <td>5</td>\n",
       "      <td>8</td>\n",
       "    </tr>\n",
       "    <tr>\n",
       "      <th>13520</th>\n",
       "      <td>13520</td>\n",
       "      <td>13520</td>\n",
       "      <td>2</td>\n",
       "      <td>5</td>\n",
       "      <td>73</td>\n",
       "    </tr>\n",
       "    <tr>\n",
       "      <th>13521</th>\n",
       "      <td>13521</td>\n",
       "      <td>13521</td>\n",
       "      <td>0</td>\n",
       "      <td>5</td>\n",
       "      <td>125</td>\n",
       "    </tr>\n",
       "    <tr>\n",
       "      <th>13522</th>\n",
       "      <td>13522</td>\n",
       "      <td>13522</td>\n",
       "      <td>3</td>\n",
       "      <td>5</td>\n",
       "      <td>55</td>\n",
       "    </tr>\n",
       "  </tbody>\n",
       "</table>\n",
       "<p>13523 rows × 5 columns</p>\n",
       "</div>"
      ],
      "text/plain": [
       "       question_id  bundle_id  correct_answer  part            tags\n",
       "0                0          0               0     1   51 131 162 38\n",
       "1                1          1               1     1       131 36 81\n",
       "2                2          2               0     1  131 101 162 92\n",
       "3                3          3               0     1  131 149 162 29\n",
       "4                4          4               3     1    131 5 162 38\n",
       "...            ...        ...             ...   ...             ...\n",
       "13518        13518      13518               3     5              14\n",
       "13519        13519      13519               3     5               8\n",
       "13520        13520      13520               2     5              73\n",
       "13521        13521      13521               0     5             125\n",
       "13522        13522      13522               3     5              55\n",
       "\n",
       "[13523 rows x 5 columns]"
      ]
     },
     "execution_count": 67,
     "metadata": {},
     "output_type": "execute_result"
    }
   ],
   "source": [
    "questions"
   ]
  },
  {
   "cell_type": "code",
   "execution_count": 68,
   "metadata": {},
   "outputs": [
    {
     "data": {
      "text/html": [
       "<div>\n",
       "<style scoped>\n",
       "    .dataframe tbody tr th:only-of-type {\n",
       "        vertical-align: middle;\n",
       "    }\n",
       "\n",
       "    .dataframe tbody tr th {\n",
       "        vertical-align: top;\n",
       "    }\n",
       "\n",
       "    .dataframe thead th {\n",
       "        text-align: right;\n",
       "    }\n",
       "</style>\n",
       "<table border=\"1\" class=\"dataframe\">\n",
       "  <thead>\n",
       "    <tr style=\"text-align: right;\">\n",
       "      <th></th>\n",
       "      <th>lecture_id</th>\n",
       "      <th>tag</th>\n",
       "      <th>part</th>\n",
       "      <th>type_of</th>\n",
       "    </tr>\n",
       "  </thead>\n",
       "  <tbody>\n",
       "    <tr>\n",
       "      <th>0</th>\n",
       "      <td>89</td>\n",
       "      <td>159</td>\n",
       "      <td>5</td>\n",
       "      <td>concept</td>\n",
       "    </tr>\n",
       "    <tr>\n",
       "      <th>1</th>\n",
       "      <td>100</td>\n",
       "      <td>70</td>\n",
       "      <td>1</td>\n",
       "      <td>concept</td>\n",
       "    </tr>\n",
       "    <tr>\n",
       "      <th>2</th>\n",
       "      <td>185</td>\n",
       "      <td>45</td>\n",
       "      <td>6</td>\n",
       "      <td>concept</td>\n",
       "    </tr>\n",
       "    <tr>\n",
       "      <th>3</th>\n",
       "      <td>192</td>\n",
       "      <td>79</td>\n",
       "      <td>5</td>\n",
       "      <td>solving question</td>\n",
       "    </tr>\n",
       "    <tr>\n",
       "      <th>4</th>\n",
       "      <td>317</td>\n",
       "      <td>156</td>\n",
       "      <td>5</td>\n",
       "      <td>solving question</td>\n",
       "    </tr>\n",
       "    <tr>\n",
       "      <th>...</th>\n",
       "      <td>...</td>\n",
       "      <td>...</td>\n",
       "      <td>...</td>\n",
       "      <td>...</td>\n",
       "    </tr>\n",
       "    <tr>\n",
       "      <th>413</th>\n",
       "      <td>32535</td>\n",
       "      <td>8</td>\n",
       "      <td>5</td>\n",
       "      <td>solving question</td>\n",
       "    </tr>\n",
       "    <tr>\n",
       "      <th>414</th>\n",
       "      <td>32570</td>\n",
       "      <td>113</td>\n",
       "      <td>3</td>\n",
       "      <td>solving question</td>\n",
       "    </tr>\n",
       "    <tr>\n",
       "      <th>415</th>\n",
       "      <td>32604</td>\n",
       "      <td>24</td>\n",
       "      <td>6</td>\n",
       "      <td>concept</td>\n",
       "    </tr>\n",
       "    <tr>\n",
       "      <th>416</th>\n",
       "      <td>32625</td>\n",
       "      <td>142</td>\n",
       "      <td>2</td>\n",
       "      <td>concept</td>\n",
       "    </tr>\n",
       "    <tr>\n",
       "      <th>417</th>\n",
       "      <td>32736</td>\n",
       "      <td>82</td>\n",
       "      <td>3</td>\n",
       "      <td>concept</td>\n",
       "    </tr>\n",
       "  </tbody>\n",
       "</table>\n",
       "<p>418 rows × 4 columns</p>\n",
       "</div>"
      ],
      "text/plain": [
       "     lecture_id  tag  part           type_of\n",
       "0            89  159     5           concept\n",
       "1           100   70     1           concept\n",
       "2           185   45     6           concept\n",
       "3           192   79     5  solving question\n",
       "4           317  156     5  solving question\n",
       "..          ...  ...   ...               ...\n",
       "413       32535    8     5  solving question\n",
       "414       32570  113     3  solving question\n",
       "415       32604   24     6           concept\n",
       "416       32625  142     2           concept\n",
       "417       32736   82     3           concept\n",
       "\n",
       "[418 rows x 4 columns]"
      ]
     },
     "execution_count": 68,
     "metadata": {},
     "output_type": "execute_result"
    }
   ],
   "source": [
    "lectures"
   ]
  },
  {
   "cell_type": "code",
   "execution_count": 69,
   "metadata": {},
   "outputs": [
    {
     "data": {
      "text/plain": [
       "(101230332, 9)"
      ]
     },
     "execution_count": 69,
     "metadata": {},
     "output_type": "execute_result"
    }
   ],
   "source": [
    "df.shape"
   ]
  },
  {
   "cell_type": "code",
   "execution_count": 70,
   "metadata": {},
   "outputs": [
    {
     "data": {
      "text/plain": [
       "timestamp                               0\n",
       "user_id                                 0\n",
       "content_id                              0\n",
       "content_type_id                         0\n",
       "task_container_id                       0\n",
       "user_answer                             0\n",
       "answered_correctly                      0\n",
       "prior_question_elapsed_time       2351538\n",
       "prior_question_had_explanation     392506\n",
       "dtype: int64"
      ]
     },
     "execution_count": 70,
     "metadata": {},
     "output_type": "execute_result"
    }
   ],
   "source": [
    "len(df) - df.count()"
   ]
  },
  {
   "cell_type": "code",
   "execution_count": 71,
   "metadata": {},
   "outputs": [
    {
     "data": {
      "text/plain": [
       "array([0, 1], dtype=int8)"
      ]
     },
     "execution_count": 71,
     "metadata": {},
     "output_type": "execute_result"
    }
   ],
   "source": [
    "df.content_type_id.unique()"
   ]
  },
  {
   "cell_type": "markdown",
   "metadata": {},
   "source": [
    "## Exploratory Data Analysis (EDA)"
   ]
  },
  {
   "cell_type": "markdown",
   "metadata": {},
   "source": [
    "### Unique value for each categorical feature"
   ]
  },
  {
   "cell_type": "code",
   "execution_count": 73,
   "metadata": {},
   "outputs": [
    {
     "name": "stderr",
     "output_type": "stream",
     "text": [
      "/Users/yatipachaleenutthawut/opt/anaconda3/lib/python3.8/site-packages/seaborn/_decorators.py:36: FutureWarning: Pass the following variables as keyword args: x, y. From version 0.12, the only valid positional argument will be `data`, and passing other arguments without an explicit keyword will result in an error or misinterpretation.\n",
      "  warnings.warn(\n"
     ]
    },
    {
     "data": {
      "image/png": "[encoded data removed]",
      "text/plain": [
       "<Figure size 1440x432 with 1 Axes>"
      ]
     },
     "metadata": {},
     "output_type": "display_data"
    }
   ],
   "source": [
    "plt.figure(figsize=(20, 6))\n",
    "cols = ['user_id', 'content_id', 'content_type_id', 'task_container_id',\n",
    "        'user_answer','answered_correctly','prior_question_had_explanation']\n",
    "uniques = [len(df[col].unique()) for col in cols]\n",
    "sns.set(font_scale=1.2)\n",
    "ax = sns.barplot(cols, uniques, log=True)\n",
    "ax.set(xlabel='Feature', ylabel='log(unique count)',\n",
    "       title='Number of unique values per feature (from 10,000,000 samples)')\n",
    "for p, uniq in zip(ax.patches, uniques):\n",
    "    height = p.get_height()\n",
    "    ax.text(p.get_x()+p.get_width()/2.,\n",
    "            height + 10,\n",
    "            uniq,\n",
    "            ha=\"center\") "
   ]
  },
  {
   "cell_type": "markdown",
   "metadata": {},
   "source": [
    "### Content type id per user’s answer"
   ]
  },
  {
   "cell_type": "code",
   "execution_count": 74,
   "metadata": {},
   "outputs": [
    {
     "data": {
      "image/png": "[encoded data removed]",
      "text/plain": [
       "<Figure size 432x288 with 2 Axes>"
      ]
     },
     "metadata": {},
     "output_type": "display_data"
    }
   ],
   "source": [
    "fig, ax = plt.subplots(2) \n",
    "ax = ax.flatten()\n",
    "tab = pd.crosstab(df['content_type_id'],df['user_answer'])\n",
    "for i,cat in enumerate(tab.index):\n",
    "    tab.loc[cat].plot.pie(ax=ax[i],startangle=90)\n",
    "    ax[i].set_ylabel('')\n",
    "    ax[i].set_title(cat, fontweight='bold')"
   ]
  },
  {
   "cell_type": "markdown",
   "metadata": {},
   "source": [
    "### Content type id per answer correctness"
   ]
  },
  {
   "cell_type": "code",
   "execution_count": 75,
   "metadata": {},
   "outputs": [
    {
     "data": {
      "image/png": "[encoded data removed]",
      "text/plain": [
       "<Figure size 432x288 with 2 Axes>"
      ]
     },
     "metadata": {},
     "output_type": "display_data"
    }
   ],
   "source": [
    "fig, ax = plt.subplots(2)\n",
    "ax = ax.flatten()\n",
    "tab = pd.crosstab(df['content_type_id'],df['answered_correctly'])\n",
    "for i,cat in enumerate(tab.index):\n",
    "    tab.loc[cat].plot.pie(ax=ax[i],startangle=90)\n",
    "    ax[i].set_ylabel('')\n",
    "    ax[i].set_title(cat, fontweight='bold')"
   ]
  },
  {
   "cell_type": "markdown",
   "metadata": {},
   "source": [
    "### The number of correct answers"
   ]
  },
  {
   "cell_type": "code",
   "execution_count": 76,
   "metadata": {
    "scrolled": true
   },
   "outputs": [
    {
     "data": {
      "text/plain": [
       "<AxesSubplot:xlabel='answered_correctly', ylabel='count'>"
      ]
     },
     "execution_count": 76,
     "metadata": {},
     "output_type": "execute_result"
    },
    {
     "data": {
      "image/png": "[encoded data removed]",
      "text/plain": [
       "<Figure size 432x288 with 1 Axes>"
      ]
     },
     "metadata": {},
     "output_type": "display_data"
    }
   ],
   "source": [
    "sns.countplot(data = df, x = 'answered_correctly')"
   ]
  },
  {
   "cell_type": "code",
   "execution_count": 77,
   "metadata": {},
   "outputs": [
    {
     "data": {
      "text/plain": [
       "timestamp                           int64\n",
       "user_id                             int32\n",
       "content_id                          int16\n",
       "content_type_id                      int8\n",
       "task_container_id                   int16\n",
       "user_answer                          int8\n",
       "answered_correctly                   int8\n",
       "prior_question_elapsed_time       float64\n",
       "prior_question_had_explanation     object\n",
       "dtype: object"
      ]
     },
     "execution_count": 77,
     "metadata": {},
     "output_type": "execute_result"
    }
   ],
   "source": [
    "df.dtypes"
   ]
  },
  {
   "cell_type": "markdown",
   "metadata": {},
   "source": [
    "### Correct and incorrect user answers"
   ]
  },
  {
   "cell_type": "code",
   "execution_count": 78,
   "metadata": {},
   "outputs": [
    {
     "name": "stderr",
     "output_type": "stream",
     "text": [
      "/Users/yatipachaleenutthawut/opt/anaconda3/lib/python3.8/site-packages/seaborn/_decorators.py:36: FutureWarning: Pass the following variable as a keyword arg: x. From version 0.12, the only valid positional argument will be `data`, and passing other arguments without an explicit keyword will result in an error or misinterpretation.\n",
      "  warnings.warn(\n",
      "/Users/yatipachaleenutthawut/opt/anaconda3/lib/python3.8/site-packages/seaborn/_decorators.py:36: FutureWarning: Pass the following variable as a keyword arg: x. From version 0.12, the only valid positional argument will be `data`, and passing other arguments without an explicit keyword will result in an error or misinterpretation.\n",
      "  warnings.warn(\n"
     ]
    },
    {
     "data": {
      "text/plain": [
       "Text(0.5, 1.0, 'Incorrectl answered user answers')"
      ]
     },
     "execution_count": 78,
     "metadata": {},
     "output_type": "execute_result"
    },
    {
     "data": {
      "image/png": "[encoded data removed]",
      "text/plain": [
       "<Figure size 1080x504 with 2 Axes>"
      ]
     },
     "metadata": {},
     "output_type": "display_data"
    }
   ],
   "source": [
    "df_correct_user_answers = df[df['answered_correctly']==1]['user_answer']\n",
    "df_incorrect_user_answers = df[df['answered_correctly']==0]['user_answer']\n",
    "\n",
    " \n",
    "plt.figure(figsize=(15,7))\n",
    "plt.subplot(121)\n",
    "sns.countplot(df_correct_user_answers)\n",
    "plt.title(\"Correctly answered user answers\")\n",
    "plt.subplot(122)\n",
    "sns.countplot(df_incorrect_user_answers)\n",
    "plt.title(\"Incorrectl answered user answers\")\n"
   ]
  },
  {
   "cell_type": "markdown",
   "metadata": {},
   "source": [
    "### The proportion of correct and incorrect answers in each content id"
   ]
  },
  {
   "cell_type": "code",
   "execution_count": 79,
   "metadata": {},
   "outputs": [],
   "source": [
    "df_question = df[df['answered_correctly']!=-1]\n",
    "correct_per = pd.crosstab(df_question['content_id'],\n",
    "            df_question['answered_correctly']).apply(lambda r: r/r.sum(), axis=1)"
   ]
  },
  {
   "cell_type": "code",
   "execution_count": 80,
   "metadata": {},
   "outputs": [
    {
     "data": {
      "text/html": [
       "<div>\n",
       "<style scoped>\n",
       "    .dataframe tbody tr th:only-of-type {\n",
       "        vertical-align: middle;\n",
       "    }\n",
       "\n",
       "    .dataframe tbody tr th {\n",
       "        vertical-align: top;\n",
       "    }\n",
       "\n",
       "    .dataframe thead th {\n",
       "        text-align: right;\n",
       "    }\n",
       "</style>\n",
       "<table border=\"1\" class=\"dataframe\">\n",
       "  <thead>\n",
       "    <tr style=\"text-align: right;\">\n",
       "      <th>answered_correctly</th>\n",
       "      <th>content_id</th>\n",
       "      <th>0</th>\n",
       "      <th>1</th>\n",
       "    </tr>\n",
       "  </thead>\n",
       "  <tbody>\n",
       "    <tr>\n",
       "      <th>1485</th>\n",
       "      <td>1485</td>\n",
       "      <td>1.000000</td>\n",
       "      <td>0.000000</td>\n",
       "    </tr>\n",
       "    <tr>\n",
       "      <th>10007</th>\n",
       "      <td>10007</td>\n",
       "      <td>1.000000</td>\n",
       "      <td>0.000000</td>\n",
       "    </tr>\n",
       "    <tr>\n",
       "      <th>1484</th>\n",
       "      <td>1484</td>\n",
       "      <td>1.000000</td>\n",
       "      <td>0.000000</td>\n",
       "    </tr>\n",
       "    <tr>\n",
       "      <th>1486</th>\n",
       "      <td>1486</td>\n",
       "      <td>1.000000</td>\n",
       "      <td>0.000000</td>\n",
       "    </tr>\n",
       "    <tr>\n",
       "      <th>10062</th>\n",
       "      <td>10062</td>\n",
       "      <td>0.908248</td>\n",
       "      <td>0.091752</td>\n",
       "    </tr>\n",
       "    <tr>\n",
       "      <th>7639</th>\n",
       "      <td>7639</td>\n",
       "      <td>0.899393</td>\n",
       "      <td>0.100607</td>\n",
       "    </tr>\n",
       "    <tr>\n",
       "      <th>3125</th>\n",
       "      <td>3125</td>\n",
       "      <td>0.864035</td>\n",
       "      <td>0.135965</td>\n",
       "    </tr>\n",
       "    <tr>\n",
       "      <th>9220</th>\n",
       "      <td>9220</td>\n",
       "      <td>0.855247</td>\n",
       "      <td>0.144753</td>\n",
       "    </tr>\n",
       "    <tr>\n",
       "      <th>7487</th>\n",
       "      <td>7487</td>\n",
       "      <td>0.852320</td>\n",
       "      <td>0.147680</td>\n",
       "    </tr>\n",
       "    <tr>\n",
       "      <th>10924</th>\n",
       "      <td>10924</td>\n",
       "      <td>0.851225</td>\n",
       "      <td>0.148775</td>\n",
       "    </tr>\n",
       "  </tbody>\n",
       "</table>\n",
       "</div>"
      ],
      "text/plain": [
       "answered_correctly  content_id        0        1\n",
       "1485                      1485 1.000000 0.000000\n",
       "10007                    10007 1.000000 0.000000\n",
       "1484                      1484 1.000000 0.000000\n",
       "1486                      1486 1.000000 0.000000\n",
       "10062                    10062 0.908248 0.091752\n",
       "7639                      7639 0.899393 0.100607\n",
       "3125                      3125 0.864035 0.135965\n",
       "9220                      9220 0.855247 0.144753\n",
       "7487                      7487 0.852320 0.147680\n",
       "10924                    10924 0.851225 0.148775"
      ]
     },
     "execution_count": 80,
     "metadata": {},
     "output_type": "execute_result"
    }
   ],
   "source": [
    "correct_per.reset_index().sort_values(by=1).head(10)"
   ]
  },
  {
   "cell_type": "code",
   "execution_count": 81,
   "metadata": {
    "scrolled": false
   },
   "outputs": [
    {
     "data": {
      "text/plain": [
       "timestamp                           int64\n",
       "user_id                             int32\n",
       "content_id                          int16\n",
       "content_type_id                      int8\n",
       "task_container_id                   int16\n",
       "user_answer                          int8\n",
       "answered_correctly                   int8\n",
       "prior_question_elapsed_time       float64\n",
       "prior_question_had_explanation     object\n",
       "dtype: object"
      ]
     },
     "execution_count": 81,
     "metadata": {},
     "output_type": "execute_result"
    }
   ],
   "source": [
    "df.dtypes"
   ]
  },
  {
   "cell_type": "markdown",
   "metadata": {},
   "source": [
    "### The correlation between the number of questions and accuracy"
   ]
  },
  {
   "cell_type": "code",
   "execution_count": 82,
   "metadata": {},
   "outputs": [
    {
     "name": "stderr",
     "output_type": "stream",
     "text": [
      "/Users/yatipachaleenutthawut/opt/anaconda3/lib/python3.8/site-packages/seaborn/_decorators.py:36: FutureWarning: Pass the following variables as keyword args: x, y. From version 0.12, the only valid positional argument will be `data`, and passing other arguments without an explicit keyword will result in an error or misinterpretation.\n",
      "  warnings.warn(\n"
     ]
    },
    {
     "data": {
      "image/png": "[encoded data removed]",
      "text/plain": [
       "<Figure size 432x288 with 1 Axes>"
      ]
     },
     "metadata": {},
     "output_type": "display_data"
    }
   ],
   "source": [
    "user_answers_ = df.groupby('user_id').agg({ 'answered_correctly':['mean', 'count']}).copy()\n",
    "user_answers_.columns = ['mean_user_accuracy', 'questions_answered']\n",
    "\n",
    "grouped_df = user_answers_.groupby([\"questions_answered\"])[\"mean_user_accuracy\"].aggregate(\"count\").reset_index()\n",
    "\n",
    "sns.pointplot(grouped_df['questions_answered'].values,grouped_df['mean_user_accuracy'].values, alpha=0.8)\n",
    "plt.ylabel('questions_answered', fontsize=12)\n",
    "plt.xlabel('mean_user_accuracy', fontsize=12)\n",
    "#plt.xticks(rotation='vertical')\n",
    "plt.show()\n",
    "# the number of question increase -> accuracy decrease"
   ]
  },
  {
   "cell_type": "markdown",
   "metadata": {},
   "source": [
    "-----------"
   ]
  },
  {
   "cell_type": "markdown",
   "metadata": {},
   "source": [
    "## Question"
   ]
  },
  {
   "cell_type": "code",
   "execution_count": 83,
   "metadata": {},
   "outputs": [],
   "source": [
    "df_qt = df[df['content_type_id']==0] #question\n"
   ]
  },
  {
   "cell_type": "code",
   "execution_count": 84,
   "metadata": {},
   "outputs": [],
   "source": [
    "df_qt = df_qt.merge(questions, how='left',  left_on='content_id', right_on='question_id')\n"
   ]
  },
  {
   "cell_type": "code",
   "execution_count": 85,
   "metadata": {},
   "outputs": [],
   "source": [
    "\n",
    "df_qt.drop('question_id',axis=1,inplace = True)"
   ]
  },
  {
   "cell_type": "code",
   "execution_count": 86,
   "metadata": {},
   "outputs": [
    {
     "data": {
      "text/html": [
       "<div>\n",
       "<style scoped>\n",
       "    .dataframe tbody tr th:only-of-type {\n",
       "        vertical-align: middle;\n",
       "    }\n",
       "\n",
       "    .dataframe tbody tr th {\n",
       "        vertical-align: top;\n",
       "    }\n",
       "\n",
       "    .dataframe thead th {\n",
       "        text-align: right;\n",
       "    }\n",
       "</style>\n",
       "<table border=\"1\" class=\"dataframe\">\n",
       "  <thead>\n",
       "    <tr style=\"text-align: right;\">\n",
       "      <th></th>\n",
       "      <th>timestamp</th>\n",
       "      <th>user_id</th>\n",
       "      <th>content_id</th>\n",
       "      <th>content_type_id</th>\n",
       "      <th>task_container_id</th>\n",
       "      <th>user_answer</th>\n",
       "      <th>answered_correctly</th>\n",
       "      <th>prior_question_elapsed_time</th>\n",
       "      <th>prior_question_had_explanation</th>\n",
       "      <th>bundle_id</th>\n",
       "      <th>correct_answer</th>\n",
       "      <th>part</th>\n",
       "      <th>tags</th>\n",
       "    </tr>\n",
       "  </thead>\n",
       "  <tbody>\n",
       "    <tr>\n",
       "      <th>79334726</th>\n",
       "      <td>2910735307</td>\n",
       "      <td>1721891790</td>\n",
       "      <td>1785</td>\n",
       "      <td>0</td>\n",
       "      <td>410</td>\n",
       "      <td>0</td>\n",
       "      <td>1</td>\n",
       "      <td>3666.000000</td>\n",
       "      <td>True</td>\n",
       "      <td>1784</td>\n",
       "      <td>0</td>\n",
       "      <td>3</td>\n",
       "      <td>74 38 81</td>\n",
       "    </tr>\n",
       "  </tbody>\n",
       "</table>\n",
       "</div>"
      ],
      "text/plain": [
       "           timestamp     user_id  content_id  content_type_id  \\\n",
       "79334726  2910735307  1721891790        1785                0   \n",
       "\n",
       "          task_container_id  user_answer  answered_correctly  \\\n",
       "79334726                410            0                   1   \n",
       "\n",
       "          prior_question_elapsed_time prior_question_had_explanation  \\\n",
       "79334726                  3666.000000                           True   \n",
       "\n",
       "          bundle_id  correct_answer  part      tags  \n",
       "79334726       1784               0     3  74 38 81  "
      ]
     },
     "execution_count": 86,
     "metadata": {},
     "output_type": "execute_result"
    }
   ],
   "source": [
    "df_qt.sample()"
   ]
  },
  {
   "cell_type": "code",
   "execution_count": 87,
   "metadata": {
    "scrolled": true
   },
   "outputs": [
    {
     "data": {
      "text/html": [
       "<div>\n",
       "<style scoped>\n",
       "    .dataframe tbody tr th:only-of-type {\n",
       "        vertical-align: middle;\n",
       "    }\n",
       "\n",
       "    .dataframe tbody tr th {\n",
       "        vertical-align: top;\n",
       "    }\n",
       "\n",
       "    .dataframe thead th {\n",
       "        text-align: right;\n",
       "    }\n",
       "</style>\n",
       "<table border=\"1\" class=\"dataframe\">\n",
       "  <thead>\n",
       "    <tr style=\"text-align: right;\">\n",
       "      <th></th>\n",
       "      <th>timestamp</th>\n",
       "      <th>user_id</th>\n",
       "      <th>content_id</th>\n",
       "      <th>content_type_id</th>\n",
       "      <th>task_container_id</th>\n",
       "      <th>user_answer</th>\n",
       "      <th>answered_correctly</th>\n",
       "      <th>prior_question_elapsed_time</th>\n",
       "      <th>prior_question_had_explanation</th>\n",
       "      <th>bundle_id</th>\n",
       "      <th>correct_answer</th>\n",
       "      <th>part</th>\n",
       "      <th>tags</th>\n",
       "    </tr>\n",
       "  </thead>\n",
       "  <tbody>\n",
       "    <tr>\n",
       "      <th>84161569</th>\n",
       "      <td>419860575</td>\n",
       "      <td>1827711444</td>\n",
       "      <td>6860</td>\n",
       "      <td>0</td>\n",
       "      <td>73</td>\n",
       "      <td>1</td>\n",
       "      <td>1</td>\n",
       "      <td>38500.000000</td>\n",
       "      <td>True</td>\n",
       "      <td>6857</td>\n",
       "      <td>1</td>\n",
       "      <td>6</td>\n",
       "      <td>65 162</td>\n",
       "    </tr>\n",
       "  </tbody>\n",
       "</table>\n",
       "</div>"
      ],
      "text/plain": [
       "          timestamp     user_id  content_id  content_type_id  \\\n",
       "84161569  419860575  1827711444        6860                0   \n",
       "\n",
       "          task_container_id  user_answer  answered_correctly  \\\n",
       "84161569                 73            1                   1   \n",
       "\n",
       "          prior_question_elapsed_time prior_question_had_explanation  \\\n",
       "84161569                 38500.000000                           True   \n",
       "\n",
       "          bundle_id  correct_answer  part    tags  \n",
       "84161569       6857               1     6  65 162  "
      ]
     },
     "execution_count": 87,
     "metadata": {},
     "output_type": "execute_result"
    }
   ],
   "source": [
    "df_qt_correct = df_qt[df_qt['answered_correctly']==1]\n",
    "\n",
    "df_qt_correct.sample()\n"
   ]
  },
  {
   "cell_type": "code",
   "execution_count": 88,
   "metadata": {},
   "outputs": [
    {
     "data": {
      "text/html": [
       "<div>\n",
       "<style scoped>\n",
       "    .dataframe tbody tr th:only-of-type {\n",
       "        vertical-align: middle;\n",
       "    }\n",
       "\n",
       "    .dataframe tbody tr th {\n",
       "        vertical-align: top;\n",
       "    }\n",
       "\n",
       "    .dataframe thead th {\n",
       "        text-align: right;\n",
       "    }\n",
       "</style>\n",
       "<table border=\"1\" class=\"dataframe\">\n",
       "  <thead>\n",
       "    <tr style=\"text-align: right;\">\n",
       "      <th></th>\n",
       "      <th>timestamp</th>\n",
       "      <th>user_id</th>\n",
       "      <th>content_id</th>\n",
       "      <th>content_type_id</th>\n",
       "      <th>task_container_id</th>\n",
       "      <th>user_answer</th>\n",
       "      <th>answered_correctly</th>\n",
       "      <th>prior_question_elapsed_time</th>\n",
       "      <th>prior_question_had_explanation</th>\n",
       "      <th>bundle_id</th>\n",
       "      <th>correct_answer</th>\n",
       "      <th>part</th>\n",
       "      <th>tags</th>\n",
       "    </tr>\n",
       "  </thead>\n",
       "  <tbody>\n",
       "    <tr>\n",
       "      <th>21560322</th>\n",
       "      <td>521320769</td>\n",
       "      <td>472351743</td>\n",
       "      <td>7893</td>\n",
       "      <td>0</td>\n",
       "      <td>488</td>\n",
       "      <td>3</td>\n",
       "      <td>0</td>\n",
       "      <td>19000.000000</td>\n",
       "      <td>True</td>\n",
       "      <td>7893</td>\n",
       "      <td>1</td>\n",
       "      <td>1</td>\n",
       "      <td>131 104 38</td>\n",
       "    </tr>\n",
       "  </tbody>\n",
       "</table>\n",
       "</div>"
      ],
      "text/plain": [
       "          timestamp    user_id  content_id  content_type_id  \\\n",
       "21560322  521320769  472351743        7893                0   \n",
       "\n",
       "          task_container_id  user_answer  answered_correctly  \\\n",
       "21560322                488            3                   0   \n",
       "\n",
       "          prior_question_elapsed_time prior_question_had_explanation  \\\n",
       "21560322                 19000.000000                           True   \n",
       "\n",
       "          bundle_id  correct_answer  part        tags  \n",
       "21560322       7893               1     1  131 104 38  "
      ]
     },
     "execution_count": 88,
     "metadata": {},
     "output_type": "execute_result"
    }
   ],
   "source": [
    "df_qt_incorrect = df_qt[df_qt['answered_correctly']==0]\n",
    "\n",
    "df_qt_incorrect.sample()"
   ]
  },
  {
   "cell_type": "markdown",
   "metadata": {},
   "source": [
    "### Unique value for each question parts"
   ]
  },
  {
   "cell_type": "code",
   "execution_count": 89,
   "metadata": {},
   "outputs": [
    {
     "name": "stderr",
     "output_type": "stream",
     "text": [
      "/Users/yatipachaleenutthawut/opt/anaconda3/lib/python3.8/site-packages/seaborn/_decorators.py:36: FutureWarning: Pass the following variable as a keyword arg: x. From version 0.12, the only valid positional argument will be `data`, and passing other arguments without an explicit keyword will result in an error or misinterpretation.\n",
      "  warnings.warn(\n",
      "/Users/yatipachaleenutthawut/opt/anaconda3/lib/python3.8/site-packages/seaborn/_decorators.py:36: FutureWarning: Pass the following variable as a keyword arg: x. From version 0.12, the only valid positional argument will be `data`, and passing other arguments without an explicit keyword will result in an error or misinterpretation.\n",
      "  warnings.warn(\n",
      "/Users/yatipachaleenutthawut/opt/anaconda3/lib/python3.8/site-packages/seaborn/_decorators.py:36: FutureWarning: Pass the following variable as a keyword arg: x. From version 0.12, the only valid positional argument will be `data`, and passing other arguments without an explicit keyword will result in an error or misinterpretation.\n",
      "  warnings.warn(\n",
      "/Users/yatipachaleenutthawut/opt/anaconda3/lib/python3.8/site-packages/seaborn/_decorators.py:36: FutureWarning: Pass the following variable as a keyword arg: x. From version 0.12, the only valid positional argument will be `data`, and passing other arguments without an explicit keyword will result in an error or misinterpretation.\n",
      "  warnings.warn(\n"
     ]
    },
    {
     "data": {
      "text/plain": [
       "Text(0.5, 1.0, 'Parts incorrect count')"
      ]
     },
     "execution_count": 89,
     "metadata": {},
     "output_type": "execute_result"
    },
    {
     "data": {
      "image/png": "[encoded data removed]",
      "text/plain": [
       "<Figure size 1080x864 with 4 Axes>"
      ]
     },
     "metadata": {},
     "output_type": "display_data"
    }
   ],
   "source": [
    "plt.figure(figsize=(15,12))\n",
    "\n",
    "sns.set_style('darkgrid')\n",
    "plt.subplot(221)\n",
    "sns.countplot(df_qt['answered_correctly'], palette='cubehelix')\n",
    "plt.title('correct_answer',color='black')\n",
    "\n",
    "sns.set_style('darkgrid')\n",
    "plt.subplot(222)\n",
    "sns.countplot(df_qt['part'], palette='cubehelix')\n",
    "plt.title('Parts',color='black')\n",
    "\n",
    "\n",
    "sns.set_style('darkgrid')\n",
    "plt.subplot(223)\n",
    "sns.countplot(df_qt_correct['part'], palette='cubehelix')\n",
    "plt.title('Parts correct count',color='black')\n",
    "\n",
    "sns.set_style('darkgrid')\n",
    "plt.subplot(224)\n",
    "sns.countplot(df_qt_incorrect['part'], palette='cubehelix')\n",
    "plt.title('Parts incorrect count',color='black')\n",
    "\n"
   ]
  },
  {
   "cell_type": "markdown",
   "metadata": {},
   "source": [
    "### Replace NaN value by overwriting False in existing dataframe"
   ]
  },
  {
   "cell_type": "code",
   "execution_count": 90,
   "metadata": {
    "scrolled": true
   },
   "outputs": [
    {
     "data": {
      "text/plain": [
       "timestamp                              0\n",
       "user_id                                0\n",
       "content_id                             0\n",
       "content_type_id                        0\n",
       "task_container_id                      0\n",
       "user_answer                            0\n",
       "answered_correctly                     0\n",
       "prior_question_elapsed_time       392506\n",
       "prior_question_had_explanation    392506\n",
       "bundle_id                              0\n",
       "correct_answer                         0\n",
       "part                                   0\n",
       "tags                                   1\n",
       "dtype: int64"
      ]
     },
     "execution_count": 90,
     "metadata": {},
     "output_type": "execute_result"
    }
   ],
   "source": [
    "len(df_qt) - df_qt.count()"
   ]
  },
  {
   "cell_type": "code",
   "execution_count": 91,
   "metadata": {},
   "outputs": [],
   "source": [
    "df_qt.fillna(False,inplace = True)\n"
   ]
  },
  {
   "cell_type": "code",
   "execution_count": 92,
   "metadata": {
    "scrolled": true
   },
   "outputs": [
    {
     "data": {
      "text/plain": [
       "timestamp                         0\n",
       "user_id                           0\n",
       "content_id                        0\n",
       "content_type_id                   0\n",
       "task_container_id                 0\n",
       "user_answer                       0\n",
       "answered_correctly                0\n",
       "prior_question_elapsed_time       0\n",
       "prior_question_had_explanation    0\n",
       "bundle_id                         0\n",
       "correct_answer                    0\n",
       "part                              0\n",
       "tags                              0\n",
       "dtype: int64"
      ]
     },
     "execution_count": 92,
     "metadata": {},
     "output_type": "execute_result"
    }
   ],
   "source": [
    "len(df_qt) - df_qt.count()"
   ]
  },
  {
   "cell_type": "markdown",
   "metadata": {},
   "source": [
    "### Counting individual user over difference content id"
   ]
  },
  {
   "cell_type": "code",
   "execution_count": 93,
   "metadata": {},
   "outputs": [
    {
     "data": {
      "text/html": [
       "<div>\n",
       "<style scoped>\n",
       "    .dataframe tbody tr th:only-of-type {\n",
       "        vertical-align: middle;\n",
       "    }\n",
       "\n",
       "    .dataframe tbody tr th {\n",
       "        vertical-align: top;\n",
       "    }\n",
       "\n",
       "    .dataframe thead th {\n",
       "        text-align: right;\n",
       "    }\n",
       "</style>\n",
       "<table border=\"1\" class=\"dataframe\">\n",
       "  <thead>\n",
       "    <tr style=\"text-align: right;\">\n",
       "      <th></th>\n",
       "      <th>user_id</th>\n",
       "      <th>content_id</th>\n",
       "      <th>Count</th>\n",
       "    </tr>\n",
       "  </thead>\n",
       "  <tbody>\n",
       "    <tr>\n",
       "      <th>0</th>\n",
       "      <td>115</td>\n",
       "      <td>4</td>\n",
       "      <td>1</td>\n",
       "    </tr>\n",
       "    <tr>\n",
       "      <th>1</th>\n",
       "      <td>115</td>\n",
       "      <td>6</td>\n",
       "      <td>1</td>\n",
       "    </tr>\n",
       "    <tr>\n",
       "      <th>2</th>\n",
       "      <td>115</td>\n",
       "      <td>25</td>\n",
       "      <td>1</td>\n",
       "    </tr>\n",
       "    <tr>\n",
       "      <th>3</th>\n",
       "      <td>115</td>\n",
       "      <td>45</td>\n",
       "      <td>1</td>\n",
       "    </tr>\n",
       "    <tr>\n",
       "      <th>4</th>\n",
       "      <td>115</td>\n",
       "      <td>50</td>\n",
       "      <td>1</td>\n",
       "    </tr>\n",
       "    <tr>\n",
       "      <th>5</th>\n",
       "      <td>115</td>\n",
       "      <td>51</td>\n",
       "      <td>1</td>\n",
       "    </tr>\n",
       "    <tr>\n",
       "      <th>6</th>\n",
       "      <td>115</td>\n",
       "      <td>55</td>\n",
       "      <td>1</td>\n",
       "    </tr>\n",
       "    <tr>\n",
       "      <th>7</th>\n",
       "      <td>115</td>\n",
       "      <td>57</td>\n",
       "      <td>1</td>\n",
       "    </tr>\n",
       "    <tr>\n",
       "      <th>8</th>\n",
       "      <td>115</td>\n",
       "      <td>100</td>\n",
       "      <td>1</td>\n",
       "    </tr>\n",
       "    <tr>\n",
       "      <th>9</th>\n",
       "      <td>115</td>\n",
       "      <td>104</td>\n",
       "      <td>1</td>\n",
       "    </tr>\n",
       "  </tbody>\n",
       "</table>\n",
       "</div>"
      ],
      "text/plain": [
       "   user_id  content_id  Count\n",
       "0      115           4      1\n",
       "1      115           6      1\n",
       "2      115          25      1\n",
       "3      115          45      1\n",
       "4      115          50      1\n",
       "5      115          51      1\n",
       "6      115          55      1\n",
       "7      115          57      1\n",
       "8      115         100      1\n",
       "9      115         104      1"
      ]
     },
     "execution_count": 93,
     "metadata": {},
     "output_type": "execute_result"
    }
   ],
   "source": [
    "user_content = df_qt.groupby('user_id')['content_id'].value_counts().reset_index(name='Count')\n",
    "user_content.head(10)"
   ]
  },
  {
   "cell_type": "code",
   "execution_count": 94,
   "metadata": {
    "scrolled": true
   },
   "outputs": [
    {
     "data": {
      "text/html": [
       "<div>\n",
       "<style scoped>\n",
       "    .dataframe tbody tr th:only-of-type {\n",
       "        vertical-align: middle;\n",
       "    }\n",
       "\n",
       "    .dataframe tbody tr th {\n",
       "        vertical-align: top;\n",
       "    }\n",
       "\n",
       "    .dataframe thead th {\n",
       "        text-align: right;\n",
       "    }\n",
       "</style>\n",
       "<table border=\"1\" class=\"dataframe\">\n",
       "  <thead>\n",
       "    <tr style=\"text-align: right;\">\n",
       "      <th></th>\n",
       "      <th>timestamp</th>\n",
       "      <th>user_id</th>\n",
       "      <th>content_id</th>\n",
       "      <th>content_type_id</th>\n",
       "      <th>task_container_id</th>\n",
       "      <th>user_answer</th>\n",
       "      <th>answered_correctly</th>\n",
       "      <th>prior_question_elapsed_time</th>\n",
       "      <th>prior_question_had_explanation</th>\n",
       "      <th>bundle_id</th>\n",
       "      <th>correct_answer</th>\n",
       "      <th>part</th>\n",
       "      <th>tags</th>\n",
       "      <th>Count</th>\n",
       "    </tr>\n",
       "  </thead>\n",
       "  <tbody>\n",
       "    <tr>\n",
       "      <th>0</th>\n",
       "      <td>0</td>\n",
       "      <td>115</td>\n",
       "      <td>5692</td>\n",
       "      <td>0</td>\n",
       "      <td>1</td>\n",
       "      <td>3</td>\n",
       "      <td>1</td>\n",
       "      <td>False</td>\n",
       "      <td>False</td>\n",
       "      <td>5692</td>\n",
       "      <td>3</td>\n",
       "      <td>5</td>\n",
       "      <td>151</td>\n",
       "      <td>1</td>\n",
       "    </tr>\n",
       "    <tr>\n",
       "      <th>1</th>\n",
       "      <td>56943</td>\n",
       "      <td>115</td>\n",
       "      <td>5716</td>\n",
       "      <td>0</td>\n",
       "      <td>2</td>\n",
       "      <td>2</td>\n",
       "      <td>1</td>\n",
       "      <td>37000.000000</td>\n",
       "      <td>False</td>\n",
       "      <td>5716</td>\n",
       "      <td>2</td>\n",
       "      <td>5</td>\n",
       "      <td>168</td>\n",
       "      <td>1</td>\n",
       "    </tr>\n",
       "    <tr>\n",
       "      <th>2</th>\n",
       "      <td>118363</td>\n",
       "      <td>115</td>\n",
       "      <td>128</td>\n",
       "      <td>0</td>\n",
       "      <td>0</td>\n",
       "      <td>0</td>\n",
       "      <td>1</td>\n",
       "      <td>55000.000000</td>\n",
       "      <td>False</td>\n",
       "      <td>128</td>\n",
       "      <td>0</td>\n",
       "      <td>1</td>\n",
       "      <td>131 149 92</td>\n",
       "      <td>1</td>\n",
       "    </tr>\n",
       "    <tr>\n",
       "      <th>3</th>\n",
       "      <td>131167</td>\n",
       "      <td>115</td>\n",
       "      <td>7860</td>\n",
       "      <td>0</td>\n",
       "      <td>3</td>\n",
       "      <td>0</td>\n",
       "      <td>1</td>\n",
       "      <td>19000.000000</td>\n",
       "      <td>False</td>\n",
       "      <td>7860</td>\n",
       "      <td>0</td>\n",
       "      <td>1</td>\n",
       "      <td>131 104 81</td>\n",
       "      <td>1</td>\n",
       "    </tr>\n",
       "    <tr>\n",
       "      <th>4</th>\n",
       "      <td>137965</td>\n",
       "      <td>115</td>\n",
       "      <td>7922</td>\n",
       "      <td>0</td>\n",
       "      <td>4</td>\n",
       "      <td>1</td>\n",
       "      <td>1</td>\n",
       "      <td>11000.000000</td>\n",
       "      <td>False</td>\n",
       "      <td>7922</td>\n",
       "      <td>1</td>\n",
       "      <td>1</td>\n",
       "      <td>131 149 92</td>\n",
       "      <td>1</td>\n",
       "    </tr>\n",
       "  </tbody>\n",
       "</table>\n",
       "</div>"
      ],
      "text/plain": [
       "   timestamp  user_id  content_id  content_type_id  task_container_id  \\\n",
       "0          0      115        5692                0                  1   \n",
       "1      56943      115        5716                0                  2   \n",
       "2     118363      115         128                0                  0   \n",
       "3     131167      115        7860                0                  3   \n",
       "4     137965      115        7922                0                  4   \n",
       "\n",
       "   user_answer  answered_correctly prior_question_elapsed_time  \\\n",
       "0            3                   1                       False   \n",
       "1            2                   1                37000.000000   \n",
       "2            0                   1                55000.000000   \n",
       "3            0                   1                19000.000000   \n",
       "4            1                   1                11000.000000   \n",
       "\n",
       "   prior_question_had_explanation  bundle_id  correct_answer  part  \\\n",
       "0                           False       5692               3     5   \n",
       "1                           False       5716               2     5   \n",
       "2                           False        128               0     1   \n",
       "3                           False       7860               0     1   \n",
       "4                           False       7922               1     1   \n",
       "\n",
       "         tags  Count  \n",
       "0         151      1  \n",
       "1         168      1  \n",
       "2  131 149 92      1  \n",
       "3  131 104 81      1  \n",
       "4  131 149 92      1  "
      ]
     },
     "execution_count": 94,
     "metadata": {},
     "output_type": "execute_result"
    }
   ],
   "source": [
    "df_train =pd.merge(df_qt,user_content,how='left',on=['user_id','content_id'])\n",
    "df_train.head()"
   ]
  },
  {
   "cell_type": "markdown",
   "metadata": {},
   "source": [
    "### User who answered each content id at first time"
   ]
  },
  {
   "cell_type": "code",
   "execution_count": 95,
   "metadata": {},
   "outputs": [
    {
     "data": {
      "text/html": [
       "<div>\n",
       "<style scoped>\n",
       "    .dataframe tbody tr th:only-of-type {\n",
       "        vertical-align: middle;\n",
       "    }\n",
       "\n",
       "    .dataframe tbody tr th {\n",
       "        vertical-align: top;\n",
       "    }\n",
       "\n",
       "    .dataframe thead th {\n",
       "        text-align: right;\n",
       "    }\n",
       "</style>\n",
       "<table border=\"1\" class=\"dataframe\">\n",
       "  <thead>\n",
       "    <tr style=\"text-align: right;\">\n",
       "      <th></th>\n",
       "      <th>timestamp</th>\n",
       "      <th>user_id</th>\n",
       "      <th>content_id</th>\n",
       "      <th>content_type_id</th>\n",
       "      <th>task_container_id</th>\n",
       "      <th>user_answer</th>\n",
       "      <th>answered_correctly</th>\n",
       "      <th>prior_question_elapsed_time</th>\n",
       "      <th>prior_question_had_explanation</th>\n",
       "      <th>bundle_id</th>\n",
       "      <th>correct_answer</th>\n",
       "      <th>part</th>\n",
       "      <th>tags</th>\n",
       "      <th>Count</th>\n",
       "      <th>is_first_time</th>\n",
       "    </tr>\n",
       "  </thead>\n",
       "  <tbody>\n",
       "    <tr>\n",
       "      <th>0</th>\n",
       "      <td>0</td>\n",
       "      <td>115</td>\n",
       "      <td>5692</td>\n",
       "      <td>0</td>\n",
       "      <td>1</td>\n",
       "      <td>3</td>\n",
       "      <td>1</td>\n",
       "      <td>False</td>\n",
       "      <td>False</td>\n",
       "      <td>5692</td>\n",
       "      <td>3</td>\n",
       "      <td>5</td>\n",
       "      <td>151</td>\n",
       "      <td>1</td>\n",
       "      <td>True</td>\n",
       "    </tr>\n",
       "    <tr>\n",
       "      <th>1</th>\n",
       "      <td>56943</td>\n",
       "      <td>115</td>\n",
       "      <td>5716</td>\n",
       "      <td>0</td>\n",
       "      <td>2</td>\n",
       "      <td>2</td>\n",
       "      <td>1</td>\n",
       "      <td>37000.000000</td>\n",
       "      <td>False</td>\n",
       "      <td>5716</td>\n",
       "      <td>2</td>\n",
       "      <td>5</td>\n",
       "      <td>168</td>\n",
       "      <td>1</td>\n",
       "      <td>True</td>\n",
       "    </tr>\n",
       "    <tr>\n",
       "      <th>2</th>\n",
       "      <td>118363</td>\n",
       "      <td>115</td>\n",
       "      <td>128</td>\n",
       "      <td>0</td>\n",
       "      <td>0</td>\n",
       "      <td>0</td>\n",
       "      <td>1</td>\n",
       "      <td>55000.000000</td>\n",
       "      <td>False</td>\n",
       "      <td>128</td>\n",
       "      <td>0</td>\n",
       "      <td>1</td>\n",
       "      <td>131 149 92</td>\n",
       "      <td>1</td>\n",
       "      <td>True</td>\n",
       "    </tr>\n",
       "    <tr>\n",
       "      <th>3</th>\n",
       "      <td>131167</td>\n",
       "      <td>115</td>\n",
       "      <td>7860</td>\n",
       "      <td>0</td>\n",
       "      <td>3</td>\n",
       "      <td>0</td>\n",
       "      <td>1</td>\n",
       "      <td>19000.000000</td>\n",
       "      <td>False</td>\n",
       "      <td>7860</td>\n",
       "      <td>0</td>\n",
       "      <td>1</td>\n",
       "      <td>131 104 81</td>\n",
       "      <td>1</td>\n",
       "      <td>True</td>\n",
       "    </tr>\n",
       "    <tr>\n",
       "      <th>4</th>\n",
       "      <td>137965</td>\n",
       "      <td>115</td>\n",
       "      <td>7922</td>\n",
       "      <td>0</td>\n",
       "      <td>4</td>\n",
       "      <td>1</td>\n",
       "      <td>1</td>\n",
       "      <td>11000.000000</td>\n",
       "      <td>False</td>\n",
       "      <td>7922</td>\n",
       "      <td>1</td>\n",
       "      <td>1</td>\n",
       "      <td>131 149 92</td>\n",
       "      <td>1</td>\n",
       "      <td>True</td>\n",
       "    </tr>\n",
       "  </tbody>\n",
       "</table>\n",
       "</div>"
      ],
      "text/plain": [
       "   timestamp  user_id  content_id  content_type_id  task_container_id  \\\n",
       "0          0      115        5692                0                  1   \n",
       "1      56943      115        5716                0                  2   \n",
       "2     118363      115         128                0                  0   \n",
       "3     131167      115        7860                0                  3   \n",
       "4     137965      115        7922                0                  4   \n",
       "\n",
       "   user_answer  answered_correctly prior_question_elapsed_time  \\\n",
       "0            3                   1                       False   \n",
       "1            2                   1                37000.000000   \n",
       "2            0                   1                55000.000000   \n",
       "3            0                   1                19000.000000   \n",
       "4            1                   1                11000.000000   \n",
       "\n",
       "   prior_question_had_explanation  bundle_id  correct_answer  part  \\\n",
       "0                           False       5692               3     5   \n",
       "1                           False       5716               2     5   \n",
       "2                           False        128               0     1   \n",
       "3                           False       7860               0     1   \n",
       "4                           False       7922               1     1   \n",
       "\n",
       "         tags  Count is_first_time  \n",
       "0         151      1          True  \n",
       "1         168      1          True  \n",
       "2  131 149 92      1          True  \n",
       "3  131 104 81      1          True  \n",
       "4  131 149 92      1          True  "
      ]
     },
     "execution_count": 95,
     "metadata": {},
     "output_type": "execute_result"
    }
   ],
   "source": [
    "df_train['is_first_time'] = df_train['Count'].apply(lambda x: True if x == 1 else 0)\n",
    "df_train.head()"
   ]
  },
  {
   "cell_type": "code",
   "execution_count": 96,
   "metadata": {},
   "outputs": [],
   "source": [
    "\n",
    "first_content = pd.crosstab(df_train['Count'],\n",
    "            df_train['answered_correctly']).apply(lambda r: r/r.sum(), axis=1)"
   ]
  },
  {
   "cell_type": "code",
   "execution_count": 97,
   "metadata": {},
   "outputs": [
    {
     "data": {
      "text/html": [
       "<div>\n",
       "<style scoped>\n",
       "    .dataframe tbody tr th:only-of-type {\n",
       "        vertical-align: middle;\n",
       "    }\n",
       "\n",
       "    .dataframe tbody tr th {\n",
       "        vertical-align: top;\n",
       "    }\n",
       "\n",
       "    .dataframe thead th {\n",
       "        text-align: right;\n",
       "    }\n",
       "</style>\n",
       "<table border=\"1\" class=\"dataframe\">\n",
       "  <thead>\n",
       "    <tr style=\"text-align: right;\">\n",
       "      <th></th>\n",
       "      <th>answered_incorrect</th>\n",
       "      <th>answered_correct</th>\n",
       "    </tr>\n",
       "    <tr>\n",
       "      <th>Count</th>\n",
       "      <th></th>\n",
       "      <th></th>\n",
       "    </tr>\n",
       "  </thead>\n",
       "  <tbody>\n",
       "    <tr>\n",
       "      <th>1</th>\n",
       "      <td>0.316076</td>\n",
       "      <td>0.683924</td>\n",
       "    </tr>\n",
       "    <tr>\n",
       "      <th>2</th>\n",
       "      <td>0.443337</td>\n",
       "      <td>0.556663</td>\n",
       "    </tr>\n",
       "    <tr>\n",
       "      <th>3</th>\n",
       "      <td>0.433347</td>\n",
       "      <td>0.566653</td>\n",
       "    </tr>\n",
       "    <tr>\n",
       "      <th>4</th>\n",
       "      <td>0.413732</td>\n",
       "      <td>0.586268</td>\n",
       "    </tr>\n",
       "    <tr>\n",
       "      <th>5</th>\n",
       "      <td>0.410233</td>\n",
       "      <td>0.589767</td>\n",
       "    </tr>\n",
       "    <tr>\n",
       "      <th>6</th>\n",
       "      <td>0.400465</td>\n",
       "      <td>0.599535</td>\n",
       "    </tr>\n",
       "    <tr>\n",
       "      <th>7</th>\n",
       "      <td>0.392409</td>\n",
       "      <td>0.607591</td>\n",
       "    </tr>\n",
       "    <tr>\n",
       "      <th>8</th>\n",
       "      <td>0.376174</td>\n",
       "      <td>0.623826</td>\n",
       "    </tr>\n",
       "    <tr>\n",
       "      <th>9</th>\n",
       "      <td>0.364007</td>\n",
       "      <td>0.635993</td>\n",
       "    </tr>\n",
       "    <tr>\n",
       "      <th>10</th>\n",
       "      <td>0.348082</td>\n",
       "      <td>0.651918</td>\n",
       "    </tr>\n",
       "    <tr>\n",
       "      <th>11</th>\n",
       "      <td>0.324000</td>\n",
       "      <td>0.676000</td>\n",
       "    </tr>\n",
       "    <tr>\n",
       "      <th>12</th>\n",
       "      <td>0.302871</td>\n",
       "      <td>0.697129</td>\n",
       "    </tr>\n",
       "    <tr>\n",
       "      <th>13</th>\n",
       "      <td>0.334169</td>\n",
       "      <td>0.665831</td>\n",
       "    </tr>\n",
       "    <tr>\n",
       "      <th>14</th>\n",
       "      <td>0.269734</td>\n",
       "      <td>0.730266</td>\n",
       "    </tr>\n",
       "    <tr>\n",
       "      <th>15</th>\n",
       "      <td>0.280460</td>\n",
       "      <td>0.719540</td>\n",
       "    </tr>\n",
       "    <tr>\n",
       "      <th>16</th>\n",
       "      <td>0.331693</td>\n",
       "      <td>0.668307</td>\n",
       "    </tr>\n",
       "    <tr>\n",
       "      <th>17</th>\n",
       "      <td>0.242928</td>\n",
       "      <td>0.757072</td>\n",
       "    </tr>\n",
       "    <tr>\n",
       "      <th>18</th>\n",
       "      <td>0.325218</td>\n",
       "      <td>0.674782</td>\n",
       "    </tr>\n",
       "    <tr>\n",
       "      <th>19</th>\n",
       "      <td>0.248452</td>\n",
       "      <td>0.751548</td>\n",
       "    </tr>\n",
       "    <tr>\n",
       "      <th>20</th>\n",
       "      <td>0.326829</td>\n",
       "      <td>0.673171</td>\n",
       "    </tr>\n",
       "    <tr>\n",
       "      <th>21</th>\n",
       "      <td>0.332451</td>\n",
       "      <td>0.667549</td>\n",
       "    </tr>\n",
       "    <tr>\n",
       "      <th>22</th>\n",
       "      <td>0.364899</td>\n",
       "      <td>0.635101</td>\n",
       "    </tr>\n",
       "    <tr>\n",
       "      <th>23</th>\n",
       "      <td>0.415459</td>\n",
       "      <td>0.584541</td>\n",
       "    </tr>\n",
       "    <tr>\n",
       "      <th>24</th>\n",
       "      <td>0.336538</td>\n",
       "      <td>0.663462</td>\n",
       "    </tr>\n",
       "    <tr>\n",
       "      <th>25</th>\n",
       "      <td>0.382222</td>\n",
       "      <td>0.617778</td>\n",
       "    </tr>\n",
       "    <tr>\n",
       "      <th>26</th>\n",
       "      <td>0.717949</td>\n",
       "      <td>0.282051</td>\n",
       "    </tr>\n",
       "    <tr>\n",
       "      <th>27</th>\n",
       "      <td>0.664609</td>\n",
       "      <td>0.335391</td>\n",
       "    </tr>\n",
       "    <tr>\n",
       "      <th>28</th>\n",
       "      <td>0.497143</td>\n",
       "      <td>0.502857</td>\n",
       "    </tr>\n",
       "    <tr>\n",
       "      <th>29</th>\n",
       "      <td>0.659875</td>\n",
       "      <td>0.340125</td>\n",
       "    </tr>\n",
       "    <tr>\n",
       "      <th>30</th>\n",
       "      <td>0.547778</td>\n",
       "      <td>0.452222</td>\n",
       "    </tr>\n",
       "    <tr>\n",
       "      <th>31</th>\n",
       "      <td>0.575269</td>\n",
       "      <td>0.424731</td>\n",
       "    </tr>\n",
       "    <tr>\n",
       "      <th>32</th>\n",
       "      <td>0.728365</td>\n",
       "      <td>0.271635</td>\n",
       "    </tr>\n",
       "    <tr>\n",
       "      <th>33</th>\n",
       "      <td>0.689394</td>\n",
       "      <td>0.310606</td>\n",
       "    </tr>\n",
       "    <tr>\n",
       "      <th>34</th>\n",
       "      <td>0.785467</td>\n",
       "      <td>0.214533</td>\n",
       "    </tr>\n",
       "    <tr>\n",
       "      <th>35</th>\n",
       "      <td>0.697802</td>\n",
       "      <td>0.302198</td>\n",
       "    </tr>\n",
       "    <tr>\n",
       "      <th>36</th>\n",
       "      <td>0.838542</td>\n",
       "      <td>0.161458</td>\n",
       "    </tr>\n",
       "    <tr>\n",
       "      <th>37</th>\n",
       "      <td>0.850123</td>\n",
       "      <td>0.149877</td>\n",
       "    </tr>\n",
       "    <tr>\n",
       "      <th>38</th>\n",
       "      <td>0.951128</td>\n",
       "      <td>0.048872</td>\n",
       "    </tr>\n",
       "    <tr>\n",
       "      <th>39</th>\n",
       "      <td>0.955128</td>\n",
       "      <td>0.044872</td>\n",
       "    </tr>\n",
       "    <tr>\n",
       "      <th>40</th>\n",
       "      <td>0.950000</td>\n",
       "      <td>0.050000</td>\n",
       "    </tr>\n",
       "    <tr>\n",
       "      <th>41</th>\n",
       "      <td>0.745257</td>\n",
       "      <td>0.254743</td>\n",
       "    </tr>\n",
       "    <tr>\n",
       "      <th>42</th>\n",
       "      <td>0.178571</td>\n",
       "      <td>0.821429</td>\n",
       "    </tr>\n",
       "    <tr>\n",
       "      <th>43</th>\n",
       "      <td>0.189922</td>\n",
       "      <td>0.810078</td>\n",
       "    </tr>\n",
       "    <tr>\n",
       "      <th>44</th>\n",
       "      <td>0.943182</td>\n",
       "      <td>0.056818</td>\n",
       "    </tr>\n",
       "    <tr>\n",
       "      <th>46</th>\n",
       "      <td>0.644928</td>\n",
       "      <td>0.355072</td>\n",
       "    </tr>\n",
       "    <tr>\n",
       "      <th>47</th>\n",
       "      <td>0.026596</td>\n",
       "      <td>0.973404</td>\n",
       "    </tr>\n",
       "    <tr>\n",
       "      <th>48</th>\n",
       "      <td>0.006944</td>\n",
       "      <td>0.993056</td>\n",
       "    </tr>\n",
       "    <tr>\n",
       "      <th>50</th>\n",
       "      <td>0.313333</td>\n",
       "      <td>0.686667</td>\n",
       "    </tr>\n",
       "    <tr>\n",
       "      <th>51</th>\n",
       "      <td>0.006536</td>\n",
       "      <td>0.993464</td>\n",
       "    </tr>\n",
       "    <tr>\n",
       "      <th>53</th>\n",
       "      <td>0.018868</td>\n",
       "      <td>0.981132</td>\n",
       "    </tr>\n",
       "    <tr>\n",
       "      <th>54</th>\n",
       "      <td>0.037037</td>\n",
       "      <td>0.962963</td>\n",
       "    </tr>\n",
       "    <tr>\n",
       "      <th>55</th>\n",
       "      <td>0.036364</td>\n",
       "      <td>0.963636</td>\n",
       "    </tr>\n",
       "    <tr>\n",
       "      <th>65</th>\n",
       "      <td>0.015385</td>\n",
       "      <td>0.984615</td>\n",
       "    </tr>\n",
       "    <tr>\n",
       "      <th>72</th>\n",
       "      <td>0.013889</td>\n",
       "      <td>0.986111</td>\n",
       "    </tr>\n",
       "    <tr>\n",
       "      <th>74</th>\n",
       "      <td>0.013514</td>\n",
       "      <td>0.986486</td>\n",
       "    </tr>\n",
       "    <tr>\n",
       "      <th>76</th>\n",
       "      <td>0.026316</td>\n",
       "      <td>0.973684</td>\n",
       "    </tr>\n",
       "    <tr>\n",
       "      <th>82</th>\n",
       "      <td>0.024390</td>\n",
       "      <td>0.975610</td>\n",
       "    </tr>\n",
       "    <tr>\n",
       "      <th>83</th>\n",
       "      <td>0.006024</td>\n",
       "      <td>0.993976</td>\n",
       "    </tr>\n",
       "  </tbody>\n",
       "</table>\n",
       "</div>"
      ],
      "text/plain": [
       "       answered_incorrect  answered_correct\n",
       "Count                                      \n",
       "1                0.316076          0.683924\n",
       "2                0.443337          0.556663\n",
       "3                0.433347          0.566653\n",
       "4                0.413732          0.586268\n",
       "5                0.410233          0.589767\n",
       "6                0.400465          0.599535\n",
       "7                0.392409          0.607591\n",
       "8                0.376174          0.623826\n",
       "9                0.364007          0.635993\n",
       "10               0.348082          0.651918\n",
       "11               0.324000          0.676000\n",
       "12               0.302871          0.697129\n",
       "13               0.334169          0.665831\n",
       "14               0.269734          0.730266\n",
       "15               0.280460          0.719540\n",
       "16               0.331693          0.668307\n",
       "17               0.242928          0.757072\n",
       "18               0.325218          0.674782\n",
       "19               0.248452          0.751548\n",
       "20               0.326829          0.673171\n",
       "21               0.332451          0.667549\n",
       "22               0.364899          0.635101\n",
       "23               0.415459          0.584541\n",
       "24               0.336538          0.663462\n",
       "25               0.382222          0.617778\n",
       "26               0.717949          0.282051\n",
       "27               0.664609          0.335391\n",
       "28               0.497143          0.502857\n",
       "29               0.659875          0.340125\n",
       "30               0.547778          0.452222\n",
       "31               0.575269          0.424731\n",
       "32               0.728365          0.271635\n",
       "33               0.689394          0.310606\n",
       "34               0.785467          0.214533\n",
       "35               0.697802          0.302198\n",
       "36               0.838542          0.161458\n",
       "37               0.850123          0.149877\n",
       "38               0.951128          0.048872\n",
       "39               0.955128          0.044872\n",
       "40               0.950000          0.050000\n",
       "41               0.745257          0.254743\n",
       "42               0.178571          0.821429\n",
       "43               0.189922          0.810078\n",
       "44               0.943182          0.056818\n",
       "46               0.644928          0.355072\n",
       "47               0.026596          0.973404\n",
       "48               0.006944          0.993056\n",
       "50               0.313333          0.686667\n",
       "51               0.006536          0.993464\n",
       "53               0.018868          0.981132\n",
       "54               0.037037          0.962963\n",
       "55               0.036364          0.963636\n",
       "65               0.015385          0.984615\n",
       "72               0.013889          0.986111\n",
       "74               0.013514          0.986486\n",
       "76               0.026316          0.973684\n",
       "82               0.024390          0.975610\n",
       "83               0.006024          0.993976"
      ]
     },
     "execution_count": 97,
     "metadata": {},
     "output_type": "execute_result"
    }
   ],
   "source": [
    "first_content.columns = ['answered_incorrect', 'answered_correct']\n",
    "first_content"
   ]
  },
  {
   "cell_type": "code",
   "execution_count": 98,
   "metadata": {},
   "outputs": [],
   "source": [
    "first_content=first_content.reset_index()"
   ]
  },
  {
   "cell_type": "code",
   "execution_count": 99,
   "metadata": {},
   "outputs": [
    {
     "data": {
      "text/html": [
       "<div>\n",
       "<style scoped>\n",
       "    .dataframe tbody tr th:only-of-type {\n",
       "        vertical-align: middle;\n",
       "    }\n",
       "\n",
       "    .dataframe tbody tr th {\n",
       "        vertical-align: top;\n",
       "    }\n",
       "\n",
       "    .dataframe thead th {\n",
       "        text-align: right;\n",
       "    }\n",
       "</style>\n",
       "<table border=\"1\" class=\"dataframe\">\n",
       "  <thead>\n",
       "    <tr style=\"text-align: right;\">\n",
       "      <th></th>\n",
       "      <th>Count</th>\n",
       "      <th>answered_incorrect</th>\n",
       "      <th>answered_correct</th>\n",
       "    </tr>\n",
       "  </thead>\n",
       "  <tbody>\n",
       "    <tr>\n",
       "      <th>56</th>\n",
       "      <td>82</td>\n",
       "      <td>0.024390</td>\n",
       "      <td>0.975610</td>\n",
       "    </tr>\n",
       "  </tbody>\n",
       "</table>\n",
       "</div>"
      ],
      "text/plain": [
       "    Count  answered_incorrect  answered_correct\n",
       "56     82            0.024390          0.975610"
      ]
     },
     "execution_count": 99,
     "metadata": {},
     "output_type": "execute_result"
    }
   ],
   "source": [
    "first_content.sample()"
   ]
  },
  {
   "cell_type": "markdown",
   "metadata": {},
   "source": [
    "### The trend of counting number of times that user answer each content id\n",
    " "
   ]
  },
  {
   "cell_type": "code",
   "execution_count": 100,
   "metadata": {},
   "outputs": [
    {
     "name": "stderr",
     "output_type": "stream",
     "text": [
      "/Users/yatipachaleenutthawut/opt/anaconda3/lib/python3.8/site-packages/seaborn/_decorators.py:36: FutureWarning: Pass the following variables as keyword args: x, y. From version 0.12, the only valid positional argument will be `data`, and passing other arguments without an explicit keyword will result in an error or misinterpretation.\n",
      "  warnings.warn(\n"
     ]
    },
    {
     "data": {
      "image/png": "[encoded data removed]",
      "text/plain": [
       "<Figure size 2160x504 with 1 Axes>"
      ]
     },
     "metadata": {},
     "output_type": "display_data"
    }
   ],
   "source": [
    "plt.figure(figsize=(30,7))\n",
    "sns.pointplot(first_content['Count'].values, first_content['answered_correct'].values,\n",
    "              alpha=0.8)\n",
    "plt.ylabel('answered_correct', fontsize=12)\n",
    "plt.xlabel('Count', fontsize=12)\n",
    "#plt.xticks(rotation='vertical')\n",
    "plt.show()"
   ]
  },
  {
   "cell_type": "code",
   "execution_count": 101,
   "metadata": {},
   "outputs": [
    {
     "data": {
      "text/html": [
       "<div>\n",
       "<style scoped>\n",
       "    .dataframe tbody tr th:only-of-type {\n",
       "        vertical-align: middle;\n",
       "    }\n",
       "\n",
       "    .dataframe tbody tr th {\n",
       "        vertical-align: top;\n",
       "    }\n",
       "\n",
       "    .dataframe thead th {\n",
       "        text-align: right;\n",
       "    }\n",
       "</style>\n",
       "<table border=\"1\" class=\"dataframe\">\n",
       "  <thead>\n",
       "    <tr style=\"text-align: right;\">\n",
       "      <th></th>\n",
       "      <th>timestamp</th>\n",
       "      <th>user_id</th>\n",
       "      <th>content_id</th>\n",
       "      <th>content_type_id</th>\n",
       "      <th>task_container_id</th>\n",
       "      <th>user_answer</th>\n",
       "      <th>answered_correctly</th>\n",
       "      <th>prior_question_elapsed_time</th>\n",
       "      <th>prior_question_had_explanation</th>\n",
       "      <th>bundle_id</th>\n",
       "      <th>correct_answer</th>\n",
       "      <th>part</th>\n",
       "      <th>tags</th>\n",
       "      <th>Count</th>\n",
       "      <th>is_first_time</th>\n",
       "    </tr>\n",
       "  </thead>\n",
       "  <tbody>\n",
       "    <tr>\n",
       "      <th>10653343</th>\n",
       "      <td>2400120368</td>\n",
       "      <td>236474756</td>\n",
       "      <td>9766</td>\n",
       "      <td>0</td>\n",
       "      <td>401</td>\n",
       "      <td>3</td>\n",
       "      <td>1</td>\n",
       "      <td>14000.000000</td>\n",
       "      <td>True</td>\n",
       "      <td>9766</td>\n",
       "      <td>3</td>\n",
       "      <td>5</td>\n",
       "      <td>96</td>\n",
       "      <td>2</td>\n",
       "      <td>0</td>\n",
       "    </tr>\n",
       "  </tbody>\n",
       "</table>\n",
       "</div>"
      ],
      "text/plain": [
       "           timestamp    user_id  content_id  content_type_id  \\\n",
       "10653343  2400120368  236474756        9766                0   \n",
       "\n",
       "          task_container_id  user_answer  answered_correctly  \\\n",
       "10653343                401            3                   1   \n",
       "\n",
       "         prior_question_elapsed_time  prior_question_had_explanation  \\\n",
       "10653343                14000.000000                            True   \n",
       "\n",
       "          bundle_id  correct_answer  part tags  Count is_first_time  \n",
       "10653343       9766               3     5   96      2             0  "
      ]
     },
     "execution_count": 101,
     "metadata": {},
     "output_type": "execute_result"
    }
   ],
   "source": [
    "df_train.sample()"
   ]
  },
  {
   "cell_type": "markdown",
   "metadata": {},
   "source": [
    "### Categorical data and dropping uninformative dataset\n",
    " "
   ]
  },
  {
   "cell_type": "code",
   "execution_count": 102,
   "metadata": {},
   "outputs": [],
   "source": [
    "obj=['user_id','content_id','task_container_id','prior_question_had_explanation','bundle_id','correct_answer','part','is_first_time','answered_correctly']\n",
    "X_cat=['user_id','content_id','task_container_id','prior_question_had_explanation','bundle_id','correct_answer','part','is_first_time','Count']\n",
    "\n",
    "drop = ['timestamp','content_type_id','user_answer','answered_correctly','prior_question_elapsed_time','tags']\n",
    "\n",
    "y=['answered_correctly']\n"
   ]
  },
  {
   "cell_type": "code",
   "execution_count": 103,
   "metadata": {},
   "outputs": [
    {
     "data": {
      "text/plain": [
       "timestamp                            int64\n",
       "user_id                           category\n",
       "content_id                        category\n",
       "content_type_id                       int8\n",
       "task_container_id                 category\n",
       "user_answer                           int8\n",
       "answered_correctly                category\n",
       "prior_question_elapsed_time         object\n",
       "prior_question_had_explanation    category\n",
       "bundle_id                         category\n",
       "correct_answer                    category\n",
       "part                              category\n",
       "tags                                object\n",
       "Count                                int64\n",
       "is_first_time                     category\n",
       "dtype: object"
      ]
     },
     "execution_count": 103,
     "metadata": {},
     "output_type": "execute_result"
    }
   ],
   "source": [
    "for i in obj:\n",
    "    df_train[i] = df_train[i].astype('category')\n",
    "\n",
    "df_train.dtypes"
   ]
  },
  {
   "cell_type": "markdown",
   "metadata": {},
   "source": [
    "## Categorical encoding using One-Hot-Encoder\n",
    " "
   ]
  },
  {
   "cell_type": "code",
   "execution_count": 104,
   "metadata": {},
   "outputs": [],
   "source": [
    "from sklearn.preprocessing import OneHotEncoder\n",
    "ohe = OneHotEncoder(sparse=False)\n",
    "encoded_features = pd.DataFrame(ohe.fit_transform(df_train[['part']]))\n",
    "ohe.categories_\n",
    "\n",
    "\n",
    "\n",
    "part_cols = [f'part_{cat}' for cat in ohe.categories_[0]]\n",
    "\n",
    "\n",
    "\n",
    "\n",
    "\n",
    "\n",
    "\n",
    "\n",
    "dummy_cols_names = [*part_cols]\n",
    "encoded_features.columns = dummy_cols_names\n"
   ]
  },
  {
   "cell_type": "code",
   "execution_count": 105,
   "metadata": {},
   "outputs": [
    {
     "data": {
      "text/html": [
       "<div>\n",
       "<style scoped>\n",
       "    .dataframe tbody tr th:only-of-type {\n",
       "        vertical-align: middle;\n",
       "    }\n",
       "\n",
       "    .dataframe tbody tr th {\n",
       "        vertical-align: top;\n",
       "    }\n",
       "\n",
       "    .dataframe thead th {\n",
       "        text-align: right;\n",
       "    }\n",
       "</style>\n",
       "<table border=\"1\" class=\"dataframe\">\n",
       "  <thead>\n",
       "    <tr style=\"text-align: right;\">\n",
       "      <th></th>\n",
       "      <th>timestamp</th>\n",
       "      <th>user_id</th>\n",
       "      <th>content_id</th>\n",
       "      <th>content_type_id</th>\n",
       "      <th>task_container_id</th>\n",
       "      <th>user_answer</th>\n",
       "      <th>answered_correctly</th>\n",
       "      <th>prior_question_elapsed_time</th>\n",
       "      <th>prior_question_had_explanation</th>\n",
       "      <th>bundle_id</th>\n",
       "      <th>...</th>\n",
       "      <th>tags</th>\n",
       "      <th>Count</th>\n",
       "      <th>is_first_time</th>\n",
       "      <th>part_1</th>\n",
       "      <th>part_2</th>\n",
       "      <th>part_3</th>\n",
       "      <th>part_4</th>\n",
       "      <th>part_5</th>\n",
       "      <th>part_6</th>\n",
       "      <th>part_7</th>\n",
       "    </tr>\n",
       "  </thead>\n",
       "  <tbody>\n",
       "    <tr>\n",
       "      <th>0</th>\n",
       "      <td>0</td>\n",
       "      <td>115</td>\n",
       "      <td>5692</td>\n",
       "      <td>0</td>\n",
       "      <td>1</td>\n",
       "      <td>3</td>\n",
       "      <td>1</td>\n",
       "      <td>False</td>\n",
       "      <td>False</td>\n",
       "      <td>5692</td>\n",
       "      <td>...</td>\n",
       "      <td>151</td>\n",
       "      <td>1</td>\n",
       "      <td>True</td>\n",
       "      <td>0.000000</td>\n",
       "      <td>0.000000</td>\n",
       "      <td>0.000000</td>\n",
       "      <td>0.000000</td>\n",
       "      <td>1.000000</td>\n",
       "      <td>0.000000</td>\n",
       "      <td>0.000000</td>\n",
       "    </tr>\n",
       "    <tr>\n",
       "      <th>1</th>\n",
       "      <td>56943</td>\n",
       "      <td>115</td>\n",
       "      <td>5716</td>\n",
       "      <td>0</td>\n",
       "      <td>2</td>\n",
       "      <td>2</td>\n",
       "      <td>1</td>\n",
       "      <td>37000.000000</td>\n",
       "      <td>False</td>\n",
       "      <td>5716</td>\n",
       "      <td>...</td>\n",
       "      <td>168</td>\n",
       "      <td>1</td>\n",
       "      <td>True</td>\n",
       "      <td>0.000000</td>\n",
       "      <td>0.000000</td>\n",
       "      <td>0.000000</td>\n",
       "      <td>0.000000</td>\n",
       "      <td>1.000000</td>\n",
       "      <td>0.000000</td>\n",
       "      <td>0.000000</td>\n",
       "    </tr>\n",
       "    <tr>\n",
       "      <th>2</th>\n",
       "      <td>118363</td>\n",
       "      <td>115</td>\n",
       "      <td>128</td>\n",
       "      <td>0</td>\n",
       "      <td>0</td>\n",
       "      <td>0</td>\n",
       "      <td>1</td>\n",
       "      <td>55000.000000</td>\n",
       "      <td>False</td>\n",
       "      <td>128</td>\n",
       "      <td>...</td>\n",
       "      <td>131 149 92</td>\n",
       "      <td>1</td>\n",
       "      <td>True</td>\n",
       "      <td>1.000000</td>\n",
       "      <td>0.000000</td>\n",
       "      <td>0.000000</td>\n",
       "      <td>0.000000</td>\n",
       "      <td>0.000000</td>\n",
       "      <td>0.000000</td>\n",
       "      <td>0.000000</td>\n",
       "    </tr>\n",
       "    <tr>\n",
       "      <th>3</th>\n",
       "      <td>131167</td>\n",
       "      <td>115</td>\n",
       "      <td>7860</td>\n",
       "      <td>0</td>\n",
       "      <td>3</td>\n",
       "      <td>0</td>\n",
       "      <td>1</td>\n",
       "      <td>19000.000000</td>\n",
       "      <td>False</td>\n",
       "      <td>7860</td>\n",
       "      <td>...</td>\n",
       "      <td>131 104 81</td>\n",
       "      <td>1</td>\n",
       "      <td>True</td>\n",
       "      <td>1.000000</td>\n",
       "      <td>0.000000</td>\n",
       "      <td>0.000000</td>\n",
       "      <td>0.000000</td>\n",
       "      <td>0.000000</td>\n",
       "      <td>0.000000</td>\n",
       "      <td>0.000000</td>\n",
       "    </tr>\n",
       "    <tr>\n",
       "      <th>4</th>\n",
       "      <td>137965</td>\n",
       "      <td>115</td>\n",
       "      <td>7922</td>\n",
       "      <td>0</td>\n",
       "      <td>4</td>\n",
       "      <td>1</td>\n",
       "      <td>1</td>\n",
       "      <td>11000.000000</td>\n",
       "      <td>False</td>\n",
       "      <td>7922</td>\n",
       "      <td>...</td>\n",
       "      <td>131 149 92</td>\n",
       "      <td>1</td>\n",
       "      <td>True</td>\n",
       "      <td>1.000000</td>\n",
       "      <td>0.000000</td>\n",
       "      <td>0.000000</td>\n",
       "      <td>0.000000</td>\n",
       "      <td>0.000000</td>\n",
       "      <td>0.000000</td>\n",
       "      <td>0.000000</td>\n",
       "    </tr>\n",
       "  </tbody>\n",
       "</table>\n",
       "<p>5 rows × 22 columns</p>\n",
       "</div>"
      ],
      "text/plain": [
       "   timestamp user_id content_id  content_type_id task_container_id  \\\n",
       "0          0     115       5692                0                 1   \n",
       "1      56943     115       5716                0                 2   \n",
       "2     118363     115        128                0                 0   \n",
       "3     131167     115       7860                0                 3   \n",
       "4     137965     115       7922                0                 4   \n",
       "\n",
       "   user_answer answered_correctly prior_question_elapsed_time  \\\n",
       "0            3                  1                       False   \n",
       "1            2                  1                37000.000000   \n",
       "2            0                  1                55000.000000   \n",
       "3            0                  1                19000.000000   \n",
       "4            1                  1                11000.000000   \n",
       "\n",
       "  prior_question_had_explanation bundle_id  ...        tags Count  \\\n",
       "0                          False      5692  ...         151     1   \n",
       "1                          False      5716  ...         168     1   \n",
       "2                          False       128  ...  131 149 92     1   \n",
       "3                          False      7860  ...  131 104 81     1   \n",
       "4                          False      7922  ...  131 149 92     1   \n",
       "\n",
       "  is_first_time   part_1   part_2   part_3   part_4   part_5   part_6   part_7  \n",
       "0          True 0.000000 0.000000 0.000000 0.000000 1.000000 0.000000 0.000000  \n",
       "1          True 0.000000 0.000000 0.000000 0.000000 1.000000 0.000000 0.000000  \n",
       "2          True 1.000000 0.000000 0.000000 0.000000 0.000000 0.000000 0.000000  \n",
       "3          True 1.000000 0.000000 0.000000 0.000000 0.000000 0.000000 0.000000  \n",
       "4          True 1.000000 0.000000 0.000000 0.000000 0.000000 0.000000 0.000000  \n",
       "\n",
       "[5 rows x 22 columns]"
      ]
     },
     "execution_count": 105,
     "metadata": {},
     "output_type": "execute_result"
    }
   ],
   "source": [
    "df_train = pd.concat([df_train, encoded_features], axis=1)\n",
    "df_train.head(5)"
   ]
  },
  {
   "cell_type": "markdown",
   "metadata": {},
   "source": [
    "## Take 10M samples data and split test/train dataset"
   ]
  },
  {
   "cell_type": "code",
   "execution_count": 106,
   "metadata": {},
   "outputs": [],
   "source": [
    "df_train = df_train.sample(10000000)"
   ]
  },
  {
   "cell_type": "code",
   "execution_count": 107,
   "metadata": {},
   "outputs": [
    {
     "data": {
      "text/plain": [
       "timestamp                            int64\n",
       "user_id                           category\n",
       "content_id                        category\n",
       "content_type_id                       int8\n",
       "task_container_id                 category\n",
       "user_answer                           int8\n",
       "answered_correctly                category\n",
       "prior_question_elapsed_time         object\n",
       "prior_question_had_explanation    category\n",
       "bundle_id                         category\n",
       "correct_answer                    category\n",
       "part                              category\n",
       "tags                                object\n",
       "Count                                int64\n",
       "is_first_time                     category\n",
       "part_1                             float64\n",
       "part_2                             float64\n",
       "part_3                             float64\n",
       "part_4                             float64\n",
       "part_5                             float64\n",
       "part_6                             float64\n",
       "part_7                             float64\n",
       "dtype: object"
      ]
     },
     "execution_count": 107,
     "metadata": {},
     "output_type": "execute_result"
    }
   ],
   "source": [
    "df_train.dtypes"
   ]
  },
  {
   "cell_type": "code",
   "execution_count": 108,
   "metadata": {},
   "outputs": [],
   "source": [
    "del data\n",
    "del df_qt_incorrect\n",
    "del df_qt_correct\n",
    "del user_answers_\n",
    "del grouped_df\n",
    "del df_question\n",
    "del correct_per\n",
    "del df_correct_user_answers\n",
    "del df_incorrect_user_answers"
   ]
  },
  {
   "cell_type": "code",
   "execution_count": 109,
   "metadata": {},
   "outputs": [
    {
     "name": "stdout",
     "output_type": "stream",
     "text": [
      "(8000000, 16) (2000000, 16) (8000000, 1) (2000000, 1)\n"
     ]
    }
   ],
   "source": [
    "from sklearn.model_selection import train_test_split\n",
    "X_rf=df_train.drop(drop,axis = 1)\n",
    "X_train, X_test, y_train, y_test = train_test_split(X_rf,df_train[y], test_size=0.2, random_state=42)\n",
    "\n",
    "print(X_train.shape,X_test.shape,y_train.shape,y_test.shape)"
   ]
  },
  {
   "cell_type": "code",
   "execution_count": 110,
   "metadata": {},
   "outputs": [
    {
     "data": {
      "text/plain": [
       "user_id                           category\n",
       "content_id                        category\n",
       "task_container_id                 category\n",
       "prior_question_had_explanation    category\n",
       "bundle_id                         category\n",
       "correct_answer                    category\n",
       "part                              category\n",
       "Count                                int64\n",
       "is_first_time                     category\n",
       "part_1                             float64\n",
       "part_2                             float64\n",
       "part_3                             float64\n",
       "part_4                             float64\n",
       "part_5                             float64\n",
       "part_6                             float64\n",
       "part_7                             float64\n",
       "dtype: object"
      ]
     },
     "execution_count": 110,
     "metadata": {},
     "output_type": "execute_result"
    }
   ],
   "source": [
    "X_train.dtypes"
   ]
  },
  {
   "cell_type": "code",
   "execution_count": 111,
   "metadata": {},
   "outputs": [
    {
     "data": {
      "text/plain": [
       "answered_correctly    category\n",
       "dtype: object"
      ]
     },
     "execution_count": 111,
     "metadata": {},
     "output_type": "execute_result"
    }
   ],
   "source": [
    "y_train.dtypes"
   ]
  },
  {
   "cell_type": "markdown",
   "metadata": {},
   "source": [
    "## Feature Selection by SelectKBest (chi)"
   ]
  },
  {
   "cell_type": "code",
   "execution_count": 112,
   "metadata": {},
   "outputs": [],
   "source": [
    "from sklearn.feature_selection import SelectKBest, chi2\n",
    "fs = SelectKBest(score_func=chi2, k='all')\n",
    "# learn relationship from training data\n",
    "fs.fit(X_train, y_train)\n",
    "# transform train input data\n",
    "X_train_fs = fs.transform(X_train)\n",
    "# transform test input data\n",
    "X_test_fs = fs.transform(X_test)"
   ]
  },
  {
   "cell_type": "code",
   "execution_count": 113,
   "metadata": {},
   "outputs": [
    {
     "name": "stdout",
     "output_type": "stream",
     "text": [
      "Feature 0: 756866842.250324\n",
      "Feature 1: 7312297.908830\n",
      "Feature 2: 57323331.786574\n",
      "Feature 3: 8240.164236\n",
      "Feature 4: 7313373.799756\n",
      "Feature 5: 2096.368418\n",
      "Feature 6: 30428.718199\n",
      "Feature 7: 23456.865786\n",
      "Feature 8: 19738.438920\n",
      "Feature 9: 20199.785824\n",
      "Feature 10: 17745.231404\n",
      "Feature 11: 5897.917226\n",
      "Feature 12: 2036.370108\n",
      "Feature 13: 32235.660345\n",
      "Feature 14: 604.468663\n",
      "Feature 15: 8.770247\n"
     ]
    }
   ],
   "source": [
    "for i in range(len(fs.scores_)):\n",
    "\tprint('Feature %d: %f' % (i, fs.scores_[i]))\n"
   ]
  },
  {
   "cell_type": "code",
   "execution_count": 114,
   "metadata": {},
   "outputs": [
    {
     "name": "stdout",
     "output_type": "stream",
     "text": [
      "                        Feat_names         F_Scores\n",
      "0                          user_id 756866842.250324\n",
      "2                task_container_id  57323331.786574\n",
      "4                        bundle_id   7313373.799756\n",
      "1                       content_id   7312297.908830\n",
      "13                          part_5     32235.660345\n",
      "6                             part     30428.718199\n",
      "7                            Count     23456.865786\n",
      "9                           part_1     20199.785824\n",
      "8                    is_first_time     19738.438920\n",
      "10                          part_2     17745.231404\n",
      "3   prior_question_had_explanation      8240.164236\n",
      "11                          part_3      5897.917226\n",
      "5                   correct_answer      2096.368418\n",
      "12                          part_4      2036.370108\n",
      "14                          part_6       604.468663\n",
      "15                          part_7         8.770247\n"
     ]
    }
   ],
   "source": [
    "names = X_train.columns.values[fs.get_support()]\n",
    "scores = fs.scores_[fs.get_support()]\n",
    "names_scores = list(zip(names, scores))\n",
    "ns_df = pd.DataFrame(data = names_scores, columns=['Feat_names', 'F_Scores'])\n",
    "#Sort the dataframe for better visualization\n",
    "ns_df_sorted = ns_df.sort_values(['F_Scores', 'Feat_names'], ascending = [False, True])\n",
    "print(ns_df_sorted)"
   ]
  },
  {
   "cell_type": "code",
   "execution_count": 115,
   "metadata": {},
   "outputs": [
    {
     "data": {
      "text/plain": [
       "user_id                           category\n",
       "content_id                        category\n",
       "task_container_id                 category\n",
       "prior_question_had_explanation    category\n",
       "bundle_id                         category\n",
       "correct_answer                    category\n",
       "part                              category\n",
       "Count                                int64\n",
       "is_first_time                     category\n",
       "part_1                             float64\n",
       "part_2                             float64\n",
       "part_3                             float64\n",
       "part_4                             float64\n",
       "part_5                             float64\n",
       "part_6                             float64\n",
       "part_7                             float64\n",
       "dtype: object"
      ]
     },
     "execution_count": 115,
     "metadata": {},
     "output_type": "execute_result"
    }
   ],
   "source": [
    "X_train.dtypes"
   ]
  },
  {
   "cell_type": "markdown",
   "metadata": {},
   "source": [
    "## Cross-Validation and RandomForestClassifier"
   ]
  },
  {
   "cell_type": "code",
   "execution_count": 116,
   "metadata": {},
   "outputs": [],
   "source": [
    "from sklearn.ensemble import RandomForestClassifier\n",
    "from sklearn.model_selection import  GroupKFold\n",
    "from sklearn.model_selection import GridSearchCV\n",
    "parameters = {\n",
    "    'n_estimators'      : [10, 20, 50, 100, 200],\n",
    "    'max_depth'         : [5,6,7,8,9,10,11,12,13,14,15],\n",
    "    'random_state'      : [42],\n",
    "}\n",
    "\n",
    "rf = RandomForestClassifier()\n"
   ]
  },
  {
   "cell_type": "code",
   "execution_count": 117,
   "metadata": {},
   "outputs": [
    {
     "name": "stdout",
     "output_type": "stream",
     "text": [
      "Fitting 3 folds for each of 55 candidates, totalling 165 fits\n",
      "[Parallel(n_jobs=-1)]: Using backend LokyBackend with 8 concurrent workers.\n",
      "[Parallel(n_jobs=-1)]: Done   1 tasks      | elapsed:  2.5min\n",
      "[Parallel(n_jobs=-1)]: Done   2 tasks      | elapsed:  2.7min\n",
      "[Parallel(n_jobs=-1)]: Done   3 tasks      | elapsed:  2.7min\n",
      "[Parallel(n_jobs=-1)]: Done   4 tasks      | elapsed:  3.8min\n",
      "[Parallel(n_jobs=-1)]: Done   5 tasks      | elapsed:  4.1min\n",
      "[Parallel(n_jobs=-1)]: Done   6 tasks      | elapsed:  4.2min\n",
      "[Parallel(n_jobs=-1)]: Done   7 tasks      | elapsed:  7.3min\n",
      "[Parallel(n_jobs=-1)]: Done   8 tasks      | elapsed:  8.3min\n",
      "[Parallel(n_jobs=-1)]: Done   9 tasks      | elapsed:  9.4min\n",
      "[Parallel(n_jobs=-1)]: Done  10 tasks      | elapsed: 10.0min\n",
      "[Parallel(n_jobs=-1)]: Done  11 tasks      | elapsed: 11.3min\n",
      "[Parallel(n_jobs=-1)]: Done  12 tasks      | elapsed: 11.8min\n",
      "[Parallel(n_jobs=-1)]: Done  13 tasks      | elapsed: 14.1min\n",
      "[Parallel(n_jobs=-1)]: Done  14 tasks      | elapsed: 14.3min\n",
      "[Parallel(n_jobs=-1)]: Done  15 tasks      | elapsed: 15.1min\n",
      "[Parallel(n_jobs=-1)]: Done  16 tasks      | elapsed: 16.3min\n",
      "[Parallel(n_jobs=-1)]: Done  17 tasks      | elapsed: 16.6min\n",
      "[Parallel(n_jobs=-1)]: Done  18 tasks      | elapsed: 17.4min\n",
      "[Parallel(n_jobs=-1)]: Done  19 tasks      | elapsed: 20.9min\n",
      "[Parallel(n_jobs=-1)]: Done  20 tasks      | elapsed: 22.9min\n",
      "[Parallel(n_jobs=-1)]: Done  21 tasks      | elapsed: 23.4min\n",
      "[Parallel(n_jobs=-1)]: Done  22 tasks      | elapsed: 25.9min\n",
      "[Parallel(n_jobs=-1)]: Done  23 tasks      | elapsed: 29.0min\n",
      "[Parallel(n_jobs=-1)]: Done  24 tasks      | elapsed: 30.4min\n",
      "[Parallel(n_jobs=-1)]: Done  25 tasks      | elapsed: 30.7min\n",
      "[Parallel(n_jobs=-1)]: Done  26 tasks      | elapsed: 31.1min\n",
      "[Parallel(n_jobs=-1)]: Done  27 tasks      | elapsed: 32.5min\n",
      "[Parallel(n_jobs=-1)]: Done  28 tasks      | elapsed: 32.6min\n",
      "[Parallel(n_jobs=-1)]: Done  29 tasks      | elapsed: 32.6min\n",
      "[Parallel(n_jobs=-1)]: Done  30 tasks      | elapsed: 34.3min\n",
      "[Parallel(n_jobs=-1)]: Done  31 tasks      | elapsed: 34.6min\n",
      "[Parallel(n_jobs=-1)]: Done  32 tasks      | elapsed: 36.1min\n",
      "[Parallel(n_jobs=-1)]: Done  33 tasks      | elapsed: 36.2min\n",
      "[Parallel(n_jobs=-1)]: Done  34 tasks      | elapsed: 39.6min\n",
      "[Parallel(n_jobs=-1)]: Done  35 tasks      | elapsed: 42.2min\n",
      "[Parallel(n_jobs=-1)]: Done  36 tasks      | elapsed: 42.4min\n",
      "[Parallel(n_jobs=-1)]: Done  37 tasks      | elapsed: 46.5min\n",
      "[Parallel(n_jobs=-1)]: Done  38 tasks      | elapsed: 49.1min\n",
      "[Parallel(n_jobs=-1)]: Done  39 tasks      | elapsed: 50.9min\n",
      "[Parallel(n_jobs=-1)]: Done  40 tasks      | elapsed: 52.2min\n",
      "[Parallel(n_jobs=-1)]: Done  41 tasks      | elapsed: 52.3min\n",
      "[Parallel(n_jobs=-1)]: Done  42 tasks      | elapsed: 52.4min\n",
      "[Parallel(n_jobs=-1)]: Done  43 tasks      | elapsed: 53.1min\n",
      "[Parallel(n_jobs=-1)]: Done  44 tasks      | elapsed: 54.2min\n",
      "[Parallel(n_jobs=-1)]: Done  45 tasks      | elapsed: 54.5min\n",
      "[Parallel(n_jobs=-1)]: Done  46 tasks      | elapsed: 55.6min\n",
      "[Parallel(n_jobs=-1)]: Done  47 tasks      | elapsed: 56.3min\n",
      "[Parallel(n_jobs=-1)]: Done  48 tasks      | elapsed: 56.7min\n",
      "[Parallel(n_jobs=-1)]: Done  49 tasks      | elapsed: 61.9min\n",
      "[Parallel(n_jobs=-1)]: Done  50 tasks      | elapsed: 63.7min\n",
      "[Parallel(n_jobs=-1)]: Done  51 tasks      | elapsed: 64.1min\n",
      "[Parallel(n_jobs=-1)]: Done  52 tasks      | elapsed: 68.1min\n",
      "[Parallel(n_jobs=-1)]: Done  53 tasks      | elapsed: 71.0min\n",
      "[Parallel(n_jobs=-1)]: Done  54 tasks      | elapsed: 72.8min\n",
      "[Parallel(n_jobs=-1)]: Done  55 tasks      | elapsed: 74.0min\n",
      "[Parallel(n_jobs=-1)]: Done  56 tasks      | elapsed: 74.4min\n",
      "[Parallel(n_jobs=-1)]: Done  57 tasks      | elapsed: 74.9min\n",
      "[Parallel(n_jobs=-1)]: Done  58 tasks      | elapsed: 75.5min\n",
      "[Parallel(n_jobs=-1)]: Done  59 tasks      | elapsed: 76.0min\n",
      "[Parallel(n_jobs=-1)]: Done  60 tasks      | elapsed: 77.8min\n",
      "[Parallel(n_jobs=-1)]: Done  61 tasks      | elapsed: 77.9min\n",
      "[Parallel(n_jobs=-1)]: Done  62 tasks      | elapsed: 79.0min\n",
      "[Parallel(n_jobs=-1)]: Done  63 tasks      | elapsed: 79.3min\n",
      "[Parallel(n_jobs=-1)]: Done  64 tasks      | elapsed: 84.2min\n",
      "[Parallel(n_jobs=-1)]: Done  65 tasks      | elapsed: 87.1min\n",
      "[Parallel(n_jobs=-1)]: Done  66 tasks      | elapsed: 87.7min\n",
      "[Parallel(n_jobs=-1)]: Done  67 tasks      | elapsed: 92.5min\n",
      "[Parallel(n_jobs=-1)]: Done  68 tasks      | elapsed: 95.1min\n",
      "[Parallel(n_jobs=-1)]: Done  69 tasks      | elapsed: 97.1min\n",
      "[Parallel(n_jobs=-1)]: Done  70 tasks      | elapsed: 98.7min\n",
      "[Parallel(n_jobs=-1)]: Done  71 tasks      | elapsed: 98.8min\n",
      "[Parallel(n_jobs=-1)]: Done  72 tasks      | elapsed: 99.5min\n",
      "[Parallel(n_jobs=-1)]: Done  73 tasks      | elapsed: 100.0min\n",
      "[Parallel(n_jobs=-1)]: Done  74 tasks      | elapsed: 100.9min\n",
      "[Parallel(n_jobs=-1)]: Done  75 tasks      | elapsed: 101.9min\n",
      "[Parallel(n_jobs=-1)]: Done  76 tasks      | elapsed: 102.5min\n",
      "[Parallel(n_jobs=-1)]: Done  77 tasks      | elapsed: 103.9min\n",
      "[Parallel(n_jobs=-1)]: Done  78 tasks      | elapsed: 104.2min\n",
      "[Parallel(n_jobs=-1)]: Done  79 tasks      | elapsed: 109.9min\n",
      "[Parallel(n_jobs=-1)]: Done  80 tasks      | elapsed: 112.5min\n",
      "[Parallel(n_jobs=-1)]: Done  81 tasks      | elapsed: 112.8min\n",
      "[Parallel(n_jobs=-1)]: Done  82 tasks      | elapsed: 118.7min\n",
      "[Parallel(n_jobs=-1)]: Done  83 tasks      | elapsed: 121.4min\n",
      "[Parallel(n_jobs=-1)]: Done  84 tasks      | elapsed: 123.6min\n",
      "[Parallel(n_jobs=-1)]: Done  85 tasks      | elapsed: 125.7min\n",
      "[Parallel(n_jobs=-1)]: Done  86 tasks      | elapsed: 126.1min\n",
      "[Parallel(n_jobs=-1)]: Done  87 tasks      | elapsed: 126.4min\n",
      "[Parallel(n_jobs=-1)]: Done  88 tasks      | elapsed: 128.1min\n",
      "[Parallel(n_jobs=-1)]: Done  89 tasks      | elapsed: 128.3min\n",
      "[Parallel(n_jobs=-1)]: Done  90 tasks      | elapsed: 129.7min\n",
      "[Parallel(n_jobs=-1)]: Done  91 tasks      | elapsed: 130.1min\n",
      "[Parallel(n_jobs=-1)]: Done  92 tasks      | elapsed: 131.3min\n",
      "[Parallel(n_jobs=-1)]: Done  93 tasks      | elapsed: 132.6min\n",
      "[Parallel(n_jobs=-1)]: Done  94 tasks      | elapsed: 138.0min\n",
      "[Parallel(n_jobs=-1)]: Done  95 tasks      | elapsed: 141.0min\n",
      "[Parallel(n_jobs=-1)]: Done  96 tasks      | elapsed: 141.7min\n",
      "[Parallel(n_jobs=-1)]: Done  97 tasks      | elapsed: 147.2min\n",
      "[Parallel(n_jobs=-1)]: Done  98 tasks      | elapsed: 150.1min\n",
      "[Parallel(n_jobs=-1)]: Done  99 tasks      | elapsed: 152.4min\n",
      "[Parallel(n_jobs=-1)]: Done 100 tasks      | elapsed: 155.1min\n",
      "[Parallel(n_jobs=-1)]: Done 101 tasks      | elapsed: 155.4min\n",
      "[Parallel(n_jobs=-1)]: Done 102 tasks      | elapsed: 155.8min\n",
      "[Parallel(n_jobs=-1)]: Done 103 tasks      | elapsed: 157.6min\n",
      "[Parallel(n_jobs=-1)]: Done 104 tasks      | elapsed: 157.7min\n",
      "[Parallel(n_jobs=-1)]: Done 105 tasks      | elapsed: 159.3min\n",
      "[Parallel(n_jobs=-1)]: Done 106 tasks      | elapsed: 159.6min\n",
      "[Parallel(n_jobs=-1)]: Done 107 tasks      | elapsed: 161.0min\n",
      "[Parallel(n_jobs=-1)]: Done 108 tasks      | elapsed: 162.4min\n",
      "[Parallel(n_jobs=-1)]: Done 109 tasks      | elapsed: 168.1min\n",
      "[Parallel(n_jobs=-1)]: Done 110 tasks      | elapsed: 171.4min\n",
      "[Parallel(n_jobs=-1)]: Done 111 tasks      | elapsed: 172.1min\n",
      "[Parallel(n_jobs=-1)]: Done 112 tasks      | elapsed: 178.4min\n",
      "[Parallel(n_jobs=-1)]: Done 113 tasks      | elapsed: 181.6min\n",
      "[Parallel(n_jobs=-1)]: Done 114 tasks      | elapsed: 184.0min\n",
      "[Parallel(n_jobs=-1)]: Done 115 tasks      | elapsed: 186.9min\n",
      "[Parallel(n_jobs=-1)]: Done 116 tasks      | elapsed: 187.6min\n",
      "[Parallel(n_jobs=-1)]: Done 117 tasks      | elapsed: 187.8min\n",
      "[Parallel(n_jobs=-1)]: Done 118 tasks      | elapsed: 189.6min\n",
      "[Parallel(n_jobs=-1)]: Done 119 tasks      | elapsed: 189.6min\n",
      "[Parallel(n_jobs=-1)]: Done 120 tasks      | elapsed: 191.3min\n",
      "[Parallel(n_jobs=-1)]: Done 121 tasks      | elapsed: 192.2min\n",
      "[Parallel(n_jobs=-1)]: Done 122 tasks      | elapsed: 193.4min\n",
      "[Parallel(n_jobs=-1)]: Done 123 tasks      | elapsed: 194.8min\n",
      "[Parallel(n_jobs=-1)]: Done 124 tasks      | elapsed: 200.7min\n",
      "[Parallel(n_jobs=-1)]: Done 125 tasks      | elapsed: 204.7min\n",
      "[Parallel(n_jobs=-1)]: Done 126 tasks      | elapsed: 205.0min\n",
      "[Parallel(n_jobs=-1)]: Done 127 tasks      | elapsed: 211.8min\n",
      "[Parallel(n_jobs=-1)]: Done 128 tasks      | elapsed: 215.0min\n",
      "[Parallel(n_jobs=-1)]: Done 129 tasks      | elapsed: 217.6min\n"
     ]
    },
    {
     "name": "stdout",
     "output_type": "stream",
     "text": [
      "[Parallel(n_jobs=-1)]: Done 130 tasks      | elapsed: 220.7min\n",
      "[Parallel(n_jobs=-1)]: Done 131 tasks      | elapsed: 221.5min\n",
      "[Parallel(n_jobs=-1)]: Done 132 tasks      | elapsed: 221.8min\n",
      "[Parallel(n_jobs=-1)]: Done 133 tasks      | elapsed: 223.6min\n",
      "[Parallel(n_jobs=-1)]: Done 134 tasks      | elapsed: 224.2min\n",
      "[Parallel(n_jobs=-1)]: Done 135 tasks      | elapsed: 225.2min\n",
      "[Parallel(n_jobs=-1)]: Done 136 tasks      | elapsed: 226.4min\n",
      "[Parallel(n_jobs=-1)]: Done 137 tasks      | elapsed: 227.8min\n",
      "[Parallel(n_jobs=-1)]: Done 138 tasks      | elapsed: 229.3min\n",
      "[Parallel(n_jobs=-1)]: Done 139 tasks      | elapsed: 236.6min\n",
      "[Parallel(n_jobs=-1)]: Done 140 tasks      | elapsed: 240.8min\n",
      "[Parallel(n_jobs=-1)]: Done 141 tasks      | elapsed: 240.9min\n",
      "[Parallel(n_jobs=-1)]: Done 142 tasks      | elapsed: 249.2min\n",
      "[Parallel(n_jobs=-1)]: Done 143 tasks      | elapsed: 252.5min\n",
      "[Parallel(n_jobs=-1)]: Done 144 tasks      | elapsed: 255.3min\n",
      "[Parallel(n_jobs=-1)]: Done 145 tasks      | elapsed: 258.7min\n",
      "[Parallel(n_jobs=-1)]: Done 146 tasks      | elapsed: 259.9min\n",
      "[Parallel(n_jobs=-1)]: Done 147 tasks      | elapsed: 260.1min\n",
      "[Parallel(n_jobs=-1)]: Done 148 tasks      | elapsed: 261.8min\n",
      "[Parallel(n_jobs=-1)]: Done 149 tasks      | elapsed: 263.0min\n",
      "[Parallel(n_jobs=-1)]: Done 150 tasks      | elapsed: 264.5min\n",
      "[Parallel(n_jobs=-1)]: Done 154 out of 165 | elapsed: 275.6min remaining: 19.7min\n",
      "[Parallel(n_jobs=-1)]: Done 158 out of 165 | elapsed: 291.5min remaining: 12.9min\n",
      "[Parallel(n_jobs=-1)]: Done 162 out of 165 | elapsed: 302.1min remaining:  5.6min\n",
      "[Parallel(n_jobs=-1)]: Done 165 out of 165 | elapsed: 324.6min finished\n"
     ]
    },
    {
     "name": "stderr",
     "output_type": "stream",
     "text": [
      "/Users/yatipachaleenutthawut/opt/anaconda3/lib/python3.8/site-packages/sklearn/model_selection/_search.py:765: DataConversionWarning: A column-vector y was passed when a 1d array was expected. Please change the shape of y to (n_samples,), for example using ravel().\n",
      "  self.best_estimator_.fit(X, y, **fit_params)\n"
     ]
    },
    {
     "data": {
      "text/plain": [
       "GridSearchCV(cv=<generator object _BaseKFold.split at 0x7fbff4507cf0>,\n",
       "             estimator=RandomForestClassifier(), n_jobs=-1,\n",
       "             param_grid={'max_depth': [5, 6, 7, 8, 9, 10, 11, 12, 13, 14, 15],\n",
       "                         'n_estimators': [10, 20, 50, 100, 200],\n",
       "                         'random_state': [42]},\n",
       "             verbose=50)"
      ]
     },
     "execution_count": 117,
     "metadata": {},
     "output_type": "execute_result"
    }
   ],
   "source": [
    "groups = X_train['part']\n",
    "cv = GroupKFold(n_splits=3)\n",
    "cv = cv.split(X_train, y_train, groups)\n",
    "\n",
    "gs_rf = GridSearchCV(rf, parameters, cv=cv,verbose = 50, n_jobs=-1)\n",
    "gs_rf.fit(X_train, y_train)\n",
    "\n"
   ]
  },
  {
   "cell_type": "code",
   "execution_count": 118,
   "metadata": {},
   "outputs": [
    {
     "data": {
      "text/plain": [
       "RandomForestClassifier(max_depth=5, n_estimators=20, random_state=42)"
      ]
     },
     "execution_count": 118,
     "metadata": {},
     "output_type": "execute_result"
    }
   ],
   "source": [
    "gs_rf.best_estimator_"
   ]
  },
  {
   "cell_type": "code",
   "execution_count": 119,
   "metadata": {},
   "outputs": [
    {
     "name": "stderr",
     "output_type": "stream",
     "text": [
      "<ipython-input-119-b10ac6bcd380>:4: DataConversionWarning: A column-vector y was passed when a 1d array was expected. Please change the shape of y to (n_samples,), for example using ravel().\n",
      "  best_model_rf.fit(X_train,y_train)\n"
     ]
    },
    {
     "data": {
      "text/plain": [
       "0.6710795"
      ]
     },
     "execution_count": 119,
     "metadata": {},
     "output_type": "execute_result"
    }
   ],
   "source": [
    "from sklearn.metrics import make_scorer, accuracy_score\n",
    "gs_rf.best_estimator_\n",
    "best_model_rf = gs_rf.best_estimator_\n",
    "best_model_rf.fit(X_train,y_train)\n",
    "y_pred_test_rf =best_model_rf.predict(X_test)\n",
    "accuracy_score(y_test, y_pred_test_rf)"
   ]
  },
  {
   "cell_type": "code",
   "execution_count": 120,
   "metadata": {},
   "outputs": [
    {
     "name": "stdout",
     "output_type": "stream",
     "text": [
      "Random (chance) Prediction: AUROC = 0.500\n",
      "RandomForestClassifiert: AUROC = 0.626\n"
     ]
    }
   ],
   "source": [
    "y_probs = [0 for _ in range(len(y_test))]\n",
    "yl_probs = best_model_rf.predict_proba(X_test)\n",
    "yl_preds = yl_probs[:, 1]\n",
    "from sklearn.metrics import roc_curve, roc_auc_score\n",
    "y_auc = roc_auc_score(y_test, y_probs)\n",
    "yl_auc = roc_auc_score(y_test, yl_preds)\n",
    "print('Random (chance) Prediction: AUROC = %.3f' % (y_auc))\n",
    "print('RandomForestClassifiert: AUROC = %.3f' % (yl_auc))"
   ]
  },
  {
   "cell_type": "code",
   "execution_count": 121,
   "metadata": {},
   "outputs": [],
   "source": [
    "y_fpr, y_tpr, _ = roc_curve(y_test, y_probs) \n",
    "yl_fpr, yl_tpr, _ = roc_curve(y_test, yl_preds)"
   ]
  },
  {
   "cell_type": "code",
   "execution_count": 122,
   "metadata": {},
   "outputs": [
    {
     "data": {
      "image/png": "[encoded data removed]",
      "text/plain": [
       "<Figure size 432x288 with 1 Axes>"
      ]
     },
     "metadata": {},
     "output_type": "display_data"
    }
   ],
   "source": [
    "plt.plot(y_fpr, y_tpr, linestyle='--', label='Random prediction (AUROC = %0.3f)' % y_auc)\n",
    "plt.plot(yl_fpr, yl_tpr, marker='.', label='RandomForestClassifier (AUROC = %0.3f)' % yl_auc)\n",
    "plt.title('ROC Plot') \n",
    "plt.xlabel('False Positive Rate')\n",
    "plt.ylabel('True Positive Rate') \n",
    "plt.legend()  \n",
    "plt.show()"
   ]
  },
  {
   "cell_type": "code",
   "execution_count": 123,
   "metadata": {},
   "outputs": [
    {
     "name": "stderr",
     "output_type": "stream",
     "text": [
      "<ipython-input-123-b10ac6bcd380>:4: DataConversionWarning: A column-vector y was passed when a 1d array was expected. Please change the shape of y to (n_samples,), for example using ravel().\n",
      "  best_model_rf.fit(X_train,y_train)\n"
     ]
    },
    {
     "data": {
      "text/plain": [
       "0.6710795"
      ]
     },
     "execution_count": 123,
     "metadata": {},
     "output_type": "execute_result"
    }
   ],
   "source": [
    "from sklearn.metrics import make_scorer, accuracy_score\n",
    "gs_rf.best_estimator_\n",
    "best_model_rf = gs_rf.best_estimator_\n",
    "best_model_rf.fit(X_train,y_train)\n",
    "y_pred_test_rf =best_model_rf.predict(X_test)\n",
    "accuracy_score(y_test, y_pred_test_rf)"
   ]
  },
  {
   "cell_type": "code",
   "execution_count": 125,
   "metadata": {
    "scrolled": true
   },
   "outputs": [
    {
     "data": {
      "text/html": [
       "<div>\n",
       "<style scoped>\n",
       "    .dataframe tbody tr th:only-of-type {\n",
       "        vertical-align: middle;\n",
       "    }\n",
       "\n",
       "    .dataframe tbody tr th {\n",
       "        vertical-align: top;\n",
       "    }\n",
       "\n",
       "    .dataframe thead th {\n",
       "        text-align: right;\n",
       "    }\n",
       "</style>\n",
       "<table border=\"1\" class=\"dataframe\">\n",
       "  <thead>\n",
       "    <tr style=\"text-align: right;\">\n",
       "      <th></th>\n",
       "      <th>0</th>\n",
       "      <th>Coefs</th>\n",
       "    </tr>\n",
       "  </thead>\n",
       "  <tbody>\n",
       "    <tr>\n",
       "      <th>2</th>\n",
       "      <td>task_container_id</td>\n",
       "      <td>0.262332</td>\n",
       "    </tr>\n",
       "    <tr>\n",
       "      <th>7</th>\n",
       "      <td>Count</td>\n",
       "      <td>0.182590</td>\n",
       "    </tr>\n",
       "    <tr>\n",
       "      <th>6</th>\n",
       "      <td>part</td>\n",
       "      <td>0.137639</td>\n",
       "    </tr>\n",
       "    <tr>\n",
       "      <th>8</th>\n",
       "      <td>is_first_time</td>\n",
       "      <td>0.112932</td>\n",
       "    </tr>\n",
       "    <tr>\n",
       "      <th>3</th>\n",
       "      <td>prior_question_had_explanation</td>\n",
       "      <td>0.075398</td>\n",
       "    </tr>\n",
       "    <tr>\n",
       "      <th>1</th>\n",
       "      <td>content_id</td>\n",
       "      <td>0.060786</td>\n",
       "    </tr>\n",
       "    <tr>\n",
       "      <th>4</th>\n",
       "      <td>bundle_id</td>\n",
       "      <td>0.049433</td>\n",
       "    </tr>\n",
       "    <tr>\n",
       "      <th>13</th>\n",
       "      <td>part_5</td>\n",
       "      <td>0.047212</td>\n",
       "    </tr>\n",
       "    <tr>\n",
       "      <th>9</th>\n",
       "      <td>part_1</td>\n",
       "      <td>0.017842</td>\n",
       "    </tr>\n",
       "    <tr>\n",
       "      <th>10</th>\n",
       "      <td>part_2</td>\n",
       "      <td>0.016532</td>\n",
       "    </tr>\n",
       "    <tr>\n",
       "      <th>14</th>\n",
       "      <td>part_6</td>\n",
       "      <td>0.012538</td>\n",
       "    </tr>\n",
       "    <tr>\n",
       "      <th>12</th>\n",
       "      <td>part_4</td>\n",
       "      <td>0.011172</td>\n",
       "    </tr>\n",
       "    <tr>\n",
       "      <th>11</th>\n",
       "      <td>part_3</td>\n",
       "      <td>0.006642</td>\n",
       "    </tr>\n",
       "    <tr>\n",
       "      <th>5</th>\n",
       "      <td>correct_answer</td>\n",
       "      <td>0.004889</td>\n",
       "    </tr>\n",
       "    <tr>\n",
       "      <th>15</th>\n",
       "      <td>part_7</td>\n",
       "      <td>0.001979</td>\n",
       "    </tr>\n",
       "    <tr>\n",
       "      <th>0</th>\n",
       "      <td>user_id</td>\n",
       "      <td>0.000084</td>\n",
       "    </tr>\n",
       "  </tbody>\n",
       "</table>\n",
       "</div>"
      ],
      "text/plain": [
       "                                 0    Coefs\n",
       "2                task_container_id 0.262332\n",
       "7                            Count 0.182590\n",
       "6                             part 0.137639\n",
       "8                    is_first_time 0.112932\n",
       "3   prior_question_had_explanation 0.075398\n",
       "1                       content_id 0.060786\n",
       "4                        bundle_id 0.049433\n",
       "13                          part_5 0.047212\n",
       "9                           part_1 0.017842\n",
       "10                          part_2 0.016532\n",
       "14                          part_6 0.012538\n",
       "12                          part_4 0.011172\n",
       "11                          part_3 0.006642\n",
       "5                   correct_answer 0.004889\n",
       "15                          part_7 0.001979\n",
       "0                          user_id 0.000084"
      ]
     },
     "execution_count": 125,
     "metadata": {},
     "output_type": "execute_result"
    }
   ],
   "source": [
    "coef_table = pd.DataFrame(list(X_train.columns)).copy()\n",
    "coef_table.insert(len(coef_table.columns),\"Coefs\",abs(best_model_rf.feature_importances_.transpose()))\n",
    "coef_table.sort_values(by=['Coefs'], ascending=False)"
   ]
  },
  {
   "cell_type": "code",
   "execution_count": null,
   "metadata": {},
   "outputs": [],
   "source": []
  },
  {
   "cell_type": "code",
   "execution_count": null,
   "metadata": {},
   "outputs": [],
   "source": []
  }
 ],
 "metadata": {
  "kernelspec": {
   "display_name": "Python 3",
   "language": "python",
   "name": "python3"
  },
  "language_info": {
   "codemirror_mode": {
    "name": "ipython",
    "version": 3
   },
   "file_extension": ".py",
   "mimetype": "text/x-python",
   "name": "python",
   "nbconvert_exporter": "python",
   "pygments_lexer": "ipython3",
   "version": "3.8.3"
  }
 },
 "nbformat": 4,
 "nbformat_minor": 4
}
